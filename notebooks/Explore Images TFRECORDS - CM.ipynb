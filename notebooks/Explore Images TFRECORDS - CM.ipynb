{
 "cells": [
  {
   "cell_type": "markdown",
   "metadata": {},
   "source": [
    "This notebook assumes you have already followed the steps in `README.md`. If not, do that first!"
   ]
  },
  {
   "cell_type": "code",
   "execution_count": 1,
   "metadata": {
    "ExecuteTime": {
     "end_time": "2020-12-07T11:57:18.948036Z",
     "start_time": "2020-12-07T11:57:13.359651Z"
    }
   },
   "outputs": [],
   "source": [
    "import os\n",
    "import matplotlib.pyplot as plt\n",
    "import numpy as np\n",
    "import tensorflow.compat.v1 as tf\n",
    "import argparse\n",
    "import math\n",
    "import numpy as np\n",
    "import os"
   ]
  },
  {
   "cell_type": "code",
   "execution_count": 2,
   "metadata": {
    "ExecuteTime": {
     "end_time": "2020-12-07T11:57:19.011771Z",
     "start_time": "2020-12-07T11:57:18.996352Z"
    }
   },
   "outputs": [],
   "source": [
    "tf.enable_eager_execution()"
   ]
  },
  {
   "cell_type": "markdown",
   "metadata": {},
   "source": [
    "# Show example of images"
   ]
  },
  {
   "cell_type": "code",
   "execution_count": 84,
   "metadata": {
    "ExecuteTime": {
     "end_time": "2020-12-07T12:43:43.559985Z",
     "start_time": "2020-12-07T12:43:43.534154Z"
    }
   },
   "outputs": [],
   "source": [
    "dirlist = lambda di: [os.path.join(di, file) for file in os.listdir(di)]\n",
    "training_files = dirlist('../earthengine/testimages/')\n",
    "\n",
    "def parse_visual(data):\n",
    "    dataset = tf.data.TFRecordDataset(data)\n",
    "    # pattern for one part file\n",
    "    # dataset = tf.data.TFRecordDataset('part-r-00099')\n",
    "    iterator = dataset.make_one_shot_iterator()\n",
    "\n",
    "    features = {\n",
    "        'B2': tf.FixedLenSequenceFeature([65], tf.int64,allow_missing=True),\n",
    "        'B3': tf.FixedLenSequenceFeature([65], tf.int64,allow_missing=True),\n",
    "        'B4': tf.FixedLenSequenceFeature([65], tf.int64,allow_missing=True),\n",
    "        'B5': tf.FixedLenSequenceFeature([65], tf.int64,allow_missing=True)\n",
    "\n",
    "    }\n",
    "\n",
    "    parsed_examples = [tf.parse_single_example(data, features) for data in iterator]\n",
    "    return parsed_examples\n",
    "\n",
    "parsed_examples = parse_visual(training_files[0])"
   ]
  },
  {
   "cell_type": "code",
   "execution_count": 85,
   "metadata": {
    "ExecuteTime": {
     "end_time": "2020-12-07T12:43:52.281513Z",
     "start_time": "2020-12-07T12:43:52.272269Z"
    }
   },
   "outputs": [],
   "source": [
    "def parse_visual_2(data):\n",
    "    dataset = tf.data.TFRecordDataset(data)\n",
    "    # pattern for one part file\n",
    "    # dataset = tf.data.TFRecordDataset('part-r-00099')\n",
    "    iterator = dataset.make_one_shot_iterator()\n",
    "\n",
    "    features = {\n",
    "        'B1': tf.FixedLenFeature([65,65], tf.float32),\n",
    "        'B2': tf.FixedLenFeature([65,65], tf.float32),\n",
    "        'B3': tf.FixedLenFeature([65,65], tf.float32),\n",
    "        'B4': tf.FixedLenFeature([65,65], tf.float32),\n",
    "        'B5': tf.FixedLenFeature([65,65], tf.float32),\n",
    "        'B6': tf.FixedLenFeature([65,65], tf.float32),\n",
    "        'B7': tf.FixedLenFeature([65,65], tf.float32),\n",
    "        'B8': tf.FixedLenFeature([65,65], tf.float32),\n",
    "        'B9': tf.FixedLenFeature([65,65], tf.float32),\n",
    "        'B10': tf.FixedLenFeature([65,65], tf.float32),\n",
    "        'B11': tf.FixedLenFeature([65,65], tf.float32)\n",
    "\n",
    "    }\n",
    "\n",
    "    parsed_examples = [tf.parse_single_example(data, features) for data in iterator]\n",
    "    return parsed_examples\n",
    "\n",
    "#parsed_examples = parse_visual_2(training_files[0])"
   ]
  },
  {
   "cell_type": "code",
   "execution_count": 86,
   "metadata": {
    "ExecuteTime": {
     "end_time": "2020-12-07T12:43:54.533911Z",
     "start_time": "2020-12-07T12:43:54.525285Z"
    }
   },
   "outputs": [
    {
     "data": {
      "text/plain": [
       "{'B2': <tf.Tensor: shape=(65, 65), dtype=int64, numpy=\n",
       " array([[0, 0, 0, ..., 0, 0, 0],\n",
       "        [0, 0, 0, ..., 0, 0, 0],\n",
       "        [0, 0, 0, ..., 0, 0, 0],\n",
       "        ...,\n",
       "        [0, 0, 0, ..., 0, 0, 0],\n",
       "        [0, 0, 0, ..., 0, 0, 0],\n",
       "        [0, 0, 0, ..., 0, 0, 0]])>,\n",
       " 'B3': <tf.Tensor: shape=(65, 65), dtype=int64, numpy=\n",
       " array([[0, 0, 0, ..., 0, 0, 0],\n",
       "        [0, 0, 0, ..., 0, 0, 0],\n",
       "        [0, 0, 0, ..., 0, 0, 0],\n",
       "        ...,\n",
       "        [0, 0, 0, ..., 0, 0, 0],\n",
       "        [0, 0, 0, ..., 0, 0, 0],\n",
       "        [0, 0, 0, ..., 0, 0, 0]])>,\n",
       " 'B4': <tf.Tensor: shape=(65, 65), dtype=int64, numpy=\n",
       " array([[0, 0, 0, ..., 0, 0, 0],\n",
       "        [0, 0, 0, ..., 0, 0, 0],\n",
       "        [0, 0, 0, ..., 0, 0, 0],\n",
       "        ...,\n",
       "        [0, 0, 0, ..., 0, 0, 0],\n",
       "        [0, 0, 0, ..., 0, 0, 0],\n",
       "        [0, 0, 0, ..., 0, 0, 0]])>,\n",
       " 'B5': <tf.Tensor: shape=(65, 65), dtype=int64, numpy=\n",
       " array([[0, 0, 0, ..., 0, 0, 0],\n",
       "        [0, 0, 0, ..., 0, 0, 0],\n",
       "        [0, 0, 0, ..., 0, 0, 0],\n",
       "        ...,\n",
       "        [0, 0, 0, ..., 0, 0, 0],\n",
       "        [0, 0, 0, ..., 0, 0, 0],\n",
       "        [0, 0, 0, ..., 0, 0, 0]])>}"
      ]
     },
     "execution_count": 86,
     "metadata": {},
     "output_type": "execute_result"
    }
   ],
   "source": [
    "parsed_examples[0]"
   ]
  },
  {
   "cell_type": "code",
   "execution_count": 87,
   "metadata": {
    "ExecuteTime": {
     "end_time": "2020-12-07T12:43:59.200759Z",
     "start_time": "2020-12-07T12:43:59.188204Z"
    }
   },
   "outputs": [
    {
     "data": {
      "text/plain": [
       "array([    0,  7935,  7960, ..., 18561, 18743, 19336])"
      ]
     },
     "execution_count": 87,
     "metadata": {},
     "output_type": "execute_result"
    }
   ],
   "source": [
    "np.unique(parsed_examples[0]['B4'])"
   ]
  },
  {
   "cell_type": "code",
   "execution_count": 69,
   "metadata": {
    "ExecuteTime": {
     "end_time": "2020-12-07T12:24:47.960784Z",
     "start_time": "2020-12-07T12:24:47.957488Z"
    }
   },
   "outputs": [],
   "source": [
    "import pandas as pd"
   ]
  },
  {
   "cell_type": "code",
   "execution_count": 71,
   "metadata": {
    "ExecuteTime": {
     "end_time": "2020-12-07T12:24:54.342541Z",
     "start_time": "2020-12-07T12:24:54.055825Z"
    }
   },
   "outputs": [
    {
     "data": {
      "text/html": [
       "<div>\n",
       "<style scoped>\n",
       "    .dataframe tbody tr th:only-of-type {\n",
       "        vertical-align: middle;\n",
       "    }\n",
       "\n",
       "    .dataframe tbody tr th {\n",
       "        vertical-align: top;\n",
       "    }\n",
       "\n",
       "    .dataframe thead th {\n",
       "        text-align: right;\n",
       "    }\n",
       "</style>\n",
       "<table border=\"1\" class=\"dataframe\">\n",
       "  <thead>\n",
       "    <tr style=\"text-align: right;\">\n",
       "      <th></th>\n",
       "      <th>0</th>\n",
       "      <th>1</th>\n",
       "      <th>2</th>\n",
       "      <th>3</th>\n",
       "      <th>4</th>\n",
       "      <th>5</th>\n",
       "      <th>6</th>\n",
       "      <th>7</th>\n",
       "      <th>8</th>\n",
       "      <th>9</th>\n",
       "      <th>...</th>\n",
       "      <th>55</th>\n",
       "      <th>56</th>\n",
       "      <th>57</th>\n",
       "      <th>58</th>\n",
       "      <th>59</th>\n",
       "      <th>60</th>\n",
       "      <th>61</th>\n",
       "      <th>62</th>\n",
       "      <th>63</th>\n",
       "      <th>64</th>\n",
       "    </tr>\n",
       "  </thead>\n",
       "  <tbody>\n",
       "    <tr>\n",
       "      <th>count</th>\n",
       "      <td>65.000000</td>\n",
       "      <td>65.000000</td>\n",
       "      <td>65.000000</td>\n",
       "      <td>65.000000</td>\n",
       "      <td>65.000000</td>\n",
       "      <td>65.000000</td>\n",
       "      <td>65.000000</td>\n",
       "      <td>65.000000</td>\n",
       "      <td>65.000000</td>\n",
       "      <td>65.000000</td>\n",
       "      <td>...</td>\n",
       "      <td>65.000000</td>\n",
       "      <td>65.000000</td>\n",
       "      <td>65.000000</td>\n",
       "      <td>65.000000</td>\n",
       "      <td>65.000000</td>\n",
       "      <td>65.000000</td>\n",
       "      <td>65.000000</td>\n",
       "      <td>65.000000</td>\n",
       "      <td>65.000000</td>\n",
       "      <td>65.000000</td>\n",
       "    </tr>\n",
       "    <tr>\n",
       "      <th>mean</th>\n",
       "      <td>154.353846</td>\n",
       "      <td>752.338462</td>\n",
       "      <td>1648.215385</td>\n",
       "      <td>2473.846154</td>\n",
       "      <td>2976.646154</td>\n",
       "      <td>3882.307692</td>\n",
       "      <td>4668.907692</td>\n",
       "      <td>5304.200000</td>\n",
       "      <td>6132.430769</td>\n",
       "      <td>6768.230769</td>\n",
       "      <td>...</td>\n",
       "      <td>7018.076923</td>\n",
       "      <td>6165.861538</td>\n",
       "      <td>5661.553846</td>\n",
       "      <td>4873.246154</td>\n",
       "      <td>3852.538462</td>\n",
       "      <td>3331.015385</td>\n",
       "      <td>2494.830769</td>\n",
       "      <td>1666.461538</td>\n",
       "      <td>1167.723077</td>\n",
       "      <td>167.323077</td>\n",
       "    </tr>\n",
       "    <tr>\n",
       "      <th>std</th>\n",
       "      <td>1244.440492</td>\n",
       "      <td>2626.703378</td>\n",
       "      <td>3680.898538</td>\n",
       "      <td>4367.897407</td>\n",
       "      <td>4674.779191</td>\n",
       "      <td>5119.382995</td>\n",
       "      <td>5251.077365</td>\n",
       "      <td>5271.154461</td>\n",
       "      <td>5215.196979</td>\n",
       "      <td>5055.453861</td>\n",
       "      <td>...</td>\n",
       "      <td>5242.247458</td>\n",
       "      <td>5408.624178</td>\n",
       "      <td>5450.763421</td>\n",
       "      <td>5476.705705</td>\n",
       "      <td>5252.265898</td>\n",
       "      <td>5039.936199</td>\n",
       "      <td>4596.101077</td>\n",
       "      <td>3939.574747</td>\n",
       "      <td>3388.127352</td>\n",
       "      <td>1349.001773</td>\n",
       "    </tr>\n",
       "    <tr>\n",
       "      <th>min</th>\n",
       "      <td>0.000000</td>\n",
       "      <td>0.000000</td>\n",
       "      <td>0.000000</td>\n",
       "      <td>0.000000</td>\n",
       "      <td>0.000000</td>\n",
       "      <td>0.000000</td>\n",
       "      <td>0.000000</td>\n",
       "      <td>0.000000</td>\n",
       "      <td>0.000000</td>\n",
       "      <td>0.000000</td>\n",
       "      <td>...</td>\n",
       "      <td>0.000000</td>\n",
       "      <td>0.000000</td>\n",
       "      <td>0.000000</td>\n",
       "      <td>0.000000</td>\n",
       "      <td>0.000000</td>\n",
       "      <td>0.000000</td>\n",
       "      <td>0.000000</td>\n",
       "      <td>0.000000</td>\n",
       "      <td>0.000000</td>\n",
       "      <td>0.000000</td>\n",
       "    </tr>\n",
       "    <tr>\n",
       "      <th>25%</th>\n",
       "      <td>0.000000</td>\n",
       "      <td>0.000000</td>\n",
       "      <td>0.000000</td>\n",
       "      <td>0.000000</td>\n",
       "      <td>0.000000</td>\n",
       "      <td>0.000000</td>\n",
       "      <td>0.000000</td>\n",
       "      <td>0.000000</td>\n",
       "      <td>0.000000</td>\n",
       "      <td>0.000000</td>\n",
       "      <td>...</td>\n",
       "      <td>0.000000</td>\n",
       "      <td>0.000000</td>\n",
       "      <td>0.000000</td>\n",
       "      <td>0.000000</td>\n",
       "      <td>0.000000</td>\n",
       "      <td>0.000000</td>\n",
       "      <td>0.000000</td>\n",
       "      <td>0.000000</td>\n",
       "      <td>0.000000</td>\n",
       "      <td>0.000000</td>\n",
       "    </tr>\n",
       "    <tr>\n",
       "      <th>50%</th>\n",
       "      <td>0.000000</td>\n",
       "      <td>0.000000</td>\n",
       "      <td>0.000000</td>\n",
       "      <td>0.000000</td>\n",
       "      <td>0.000000</td>\n",
       "      <td>0.000000</td>\n",
       "      <td>0.000000</td>\n",
       "      <td>9694.000000</td>\n",
       "      <td>10155.000000</td>\n",
       "      <td>10317.000000</td>\n",
       "      <td>...</td>\n",
       "      <td>10590.000000</td>\n",
       "      <td>10583.000000</td>\n",
       "      <td>10476.000000</td>\n",
       "      <td>0.000000</td>\n",
       "      <td>0.000000</td>\n",
       "      <td>0.000000</td>\n",
       "      <td>0.000000</td>\n",
       "      <td>0.000000</td>\n",
       "      <td>0.000000</td>\n",
       "      <td>0.000000</td>\n",
       "    </tr>\n",
       "    <tr>\n",
       "      <th>75%</th>\n",
       "      <td>0.000000</td>\n",
       "      <td>0.000000</td>\n",
       "      <td>0.000000</td>\n",
       "      <td>0.000000</td>\n",
       "      <td>9689.000000</td>\n",
       "      <td>10239.000000</td>\n",
       "      <td>10298.000000</td>\n",
       "      <td>10460.000000</td>\n",
       "      <td>10573.000000</td>\n",
       "      <td>10517.000000</td>\n",
       "      <td>...</td>\n",
       "      <td>10969.000000</td>\n",
       "      <td>10904.000000</td>\n",
       "      <td>10825.000000</td>\n",
       "      <td>10919.000000</td>\n",
       "      <td>10738.000000</td>\n",
       "      <td>10480.000000</td>\n",
       "      <td>0.000000</td>\n",
       "      <td>0.000000</td>\n",
       "      <td>0.000000</td>\n",
       "      <td>0.000000</td>\n",
       "    </tr>\n",
       "    <tr>\n",
       "      <th>max</th>\n",
       "      <td>10033.000000</td>\n",
       "      <td>9882.000000</td>\n",
       "      <td>10055.000000</td>\n",
       "      <td>10956.000000</td>\n",
       "      <td>11183.000000</td>\n",
       "      <td>11278.000000</td>\n",
       "      <td>11637.000000</td>\n",
       "      <td>11267.000000</td>\n",
       "      <td>11319.000000</td>\n",
       "      <td>11302.000000</td>\n",
       "      <td>...</td>\n",
       "      <td>11681.000000</td>\n",
       "      <td>11202.000000</td>\n",
       "      <td>11265.000000</td>\n",
       "      <td>11474.000000</td>\n",
       "      <td>11624.000000</td>\n",
       "      <td>11710.000000</td>\n",
       "      <td>11961.000000</td>\n",
       "      <td>11192.000000</td>\n",
       "      <td>11112.000000</td>\n",
       "      <td>10876.000000</td>\n",
       "    </tr>\n",
       "  </tbody>\n",
       "</table>\n",
       "<p>8 rows × 65 columns</p>\n",
       "</div>"
      ],
      "text/plain": [
       "                 0            1             2             3             4   \\\n",
       "count     65.000000    65.000000     65.000000     65.000000     65.000000   \n",
       "mean     154.353846   752.338462   1648.215385   2473.846154   2976.646154   \n",
       "std     1244.440492  2626.703378   3680.898538   4367.897407   4674.779191   \n",
       "min        0.000000     0.000000      0.000000      0.000000      0.000000   \n",
       "25%        0.000000     0.000000      0.000000      0.000000      0.000000   \n",
       "50%        0.000000     0.000000      0.000000      0.000000      0.000000   \n",
       "75%        0.000000     0.000000      0.000000      0.000000   9689.000000   \n",
       "max    10033.000000  9882.000000  10055.000000  10956.000000  11183.000000   \n",
       "\n",
       "                 5             6             7             8             9   \\\n",
       "count     65.000000     65.000000     65.000000     65.000000     65.000000   \n",
       "mean    3882.307692   4668.907692   5304.200000   6132.430769   6768.230769   \n",
       "std     5119.382995   5251.077365   5271.154461   5215.196979   5055.453861   \n",
       "min        0.000000      0.000000      0.000000      0.000000      0.000000   \n",
       "25%        0.000000      0.000000      0.000000      0.000000      0.000000   \n",
       "50%        0.000000      0.000000   9694.000000  10155.000000  10317.000000   \n",
       "75%    10239.000000  10298.000000  10460.000000  10573.000000  10517.000000   \n",
       "max    11278.000000  11637.000000  11267.000000  11319.000000  11302.000000   \n",
       "\n",
       "       ...            55            56            57            58  \\\n",
       "count  ...     65.000000     65.000000     65.000000     65.000000   \n",
       "mean   ...   7018.076923   6165.861538   5661.553846   4873.246154   \n",
       "std    ...   5242.247458   5408.624178   5450.763421   5476.705705   \n",
       "min    ...      0.000000      0.000000      0.000000      0.000000   \n",
       "25%    ...      0.000000      0.000000      0.000000      0.000000   \n",
       "50%    ...  10590.000000  10583.000000  10476.000000      0.000000   \n",
       "75%    ...  10969.000000  10904.000000  10825.000000  10919.000000   \n",
       "max    ...  11681.000000  11202.000000  11265.000000  11474.000000   \n",
       "\n",
       "                 59            60            61            62            63  \\\n",
       "count     65.000000     65.000000     65.000000     65.000000     65.000000   \n",
       "mean    3852.538462   3331.015385   2494.830769   1666.461538   1167.723077   \n",
       "std     5252.265898   5039.936199   4596.101077   3939.574747   3388.127352   \n",
       "min        0.000000      0.000000      0.000000      0.000000      0.000000   \n",
       "25%        0.000000      0.000000      0.000000      0.000000      0.000000   \n",
       "50%        0.000000      0.000000      0.000000      0.000000      0.000000   \n",
       "75%    10738.000000  10480.000000      0.000000      0.000000      0.000000   \n",
       "max    11624.000000  11710.000000  11961.000000  11192.000000  11112.000000   \n",
       "\n",
       "                 64  \n",
       "count     65.000000  \n",
       "mean     167.323077  \n",
       "std     1349.001773  \n",
       "min        0.000000  \n",
       "25%        0.000000  \n",
       "50%        0.000000  \n",
       "75%        0.000000  \n",
       "max    10876.000000  \n",
       "\n",
       "[8 rows x 65 columns]"
      ]
     },
     "execution_count": 71,
     "metadata": {},
     "output_type": "execute_result"
    }
   ],
   "source": [
    "pd.DataFrame(parsed_examples[0]['B2'].numpy()).describe()"
   ]
  },
  {
   "cell_type": "code",
   "execution_count": 62,
   "metadata": {
    "ExecuteTime": {
     "end_time": "2020-12-07T12:22:21.265567Z",
     "start_time": "2020-12-07T12:22:20.966210Z"
    }
   },
   "outputs": [
    {
     "data": {
      "text/plain": [
       "<matplotlib.image.AxesImage at 0x1411a2b20>"
      ]
     },
     "execution_count": 62,
     "metadata": {},
     "output_type": "execute_result"
    },
    {
     "data": {
      "image/png": "[encoded data removed]",
      "text/plain": [
       "<Figure size 432x288 with 1 Axes>"
      ]
     },
     "metadata": {
      "needs_background": "light"
     },
     "output_type": "display_data"
    }
   ],
   "source": [
    "plt.imshow(parsed_examples[0]['B2'])"
   ]
  },
  {
   "cell_type": "code",
   "execution_count": 50,
   "metadata": {
    "ExecuteTime": {
     "end_time": "2020-12-07T12:16:39.026953Z",
     "start_time": "2020-12-07T12:16:39.019219Z"
    }
   },
   "outputs": [
    {
     "data": {
      "text/plain": [
       "(4225,)"
      ]
     },
     "execution_count": 50,
     "metadata": {},
     "output_type": "execute_result"
    }
   ],
   "source": [
    "np.frombuffer(parsed_examples[0]['B4'].numpy(),dtype=np.uint64).shape"
   ]
  },
  {
   "cell_type": "code",
   "execution_count": 51,
   "metadata": {
    "ExecuteTime": {
     "end_time": "2020-12-07T12:16:39.571706Z",
     "start_time": "2020-12-07T12:16:39.556080Z"
    }
   },
   "outputs": [
    {
     "data": {
      "text/plain": [
       "(65, 65)"
      ]
     },
     "execution_count": 51,
     "metadata": {},
     "output_type": "execute_result"
    }
   ],
   "source": [
    "parsed_examples[0]['B4'].numpy().shape"
   ]
  },
  {
   "cell_type": "code",
   "execution_count": 92,
   "metadata": {
    "ExecuteTime": {
     "end_time": "2020-12-07T12:44:51.324758Z",
     "start_time": "2020-12-07T12:44:51.320799Z"
    }
   },
   "outputs": [],
   "source": [
    "def get_img_from_example(parsed_example, intensify=True):\n",
    "    rgbArray = np.zeros((65,65,3), 'int64')\n",
    "    for i, band in enumerate(['B5', 'B3', 'B2']):\n",
    "        #band_data = np.frombuffer(parsed_example[band].numpy(), dtype=np.uint8)\n",
    "        band_data = parsed_example[band].numpy()\n",
    "        #band_data = band_data.reshape(65, 65)\n",
    "        if intensify:\n",
    "            band_data = band_data/np.max(band_data)*255\n",
    "        else:\n",
    "            band_data = band_data*255\n",
    "        print(band_data.shape)\n",
    "        rgbArray[..., i] = band_data\n",
    "        \n",
    "    #label = tf.cast(parsed_example['label'], tf.int32).numpy()\n",
    "        \n",
    "    return rgbArray#, label"
   ]
  },
  {
   "cell_type": "code",
   "execution_count": 93,
   "metadata": {
    "ExecuteTime": {
     "end_time": "2020-12-07T12:44:52.399587Z",
     "start_time": "2020-12-07T12:44:52.170797Z"
    },
    "scrolled": false
   },
   "outputs": [
    {
     "name": "stdout",
     "output_type": "stream",
     "text": [
      "(65, 65)\n",
      "(65, 65)\n",
      "(65, 65)\n"
     ]
    },
    {
     "data": {
      "text/plain": [
       "<matplotlib.image.AxesImage at 0x1413f89d0>"
      ]
     },
     "execution_count": 93,
     "metadata": {},
     "output_type": "execute_result"
    },
    {
     "data": {
      "image/png": "[encoded data removed]",
      "text/plain": [
       "<Figure size 432x288 with 1 Axes>"
      ]
     },
     "metadata": {
      "needs_background": "light"
     },
     "output_type": "display_data"
    }
   ],
   "source": [
    "img= get_img_from_example(parsed_examples[0])\n",
    "plt.imshow(img)"
   ]
  },
  {
   "cell_type": "code",
   "execution_count": 70,
   "metadata": {
    "ExecuteTime": {
     "end_time": "2020-12-07T11:43:43.926059Z",
     "start_time": "2020-12-07T11:43:43.914084Z"
    }
   },
   "outputs": [
    {
     "data": {
      "text/plain": [
       "numpy.ndarray"
      ]
     },
     "execution_count": 70,
     "metadata": {},
     "output_type": "execute_result"
    }
   ],
   "source": [
    "type(img)"
   ]
  },
  {
   "cell_type": "code",
   "execution_count": 191,
   "metadata": {
    "ExecuteTime": {
     "end_time": "2020-12-07T11:20:21.167441Z",
     "start_time": "2020-12-07T11:20:21.156237Z"
    }
   },
   "outputs": [
    {
     "data": {
      "text/plain": [
       "21.66793237450417"
      ]
     },
     "execution_count": 191,
     "metadata": {},
     "output_type": "execute_result"
    }
   ],
   "source": [
    "img.std()"
   ]
  },
  {
   "cell_type": "code",
   "execution_count": 193,
   "metadata": {
    "ExecuteTime": {
     "end_time": "2020-12-07T11:20:30.070059Z",
     "start_time": "2020-12-07T11:20:30.047101Z"
    }
   },
   "outputs": [
    {
     "ename": "ValueError",
     "evalue": "cannot reshape array of size 33800 into shape (65,65)",
     "output_type": "error",
     "traceback": [
      "\u001b[0;31m---------------------------------------------------------------------------\u001b[0m",
      "\u001b[0;31mValueError\u001b[0m                                Traceback (most recent call last)",
      "\u001b[0;32m<ipython-input-193-5fe7406fcec7>\u001b[0m in \u001b[0;36m<module>\u001b[0;34m\u001b[0m\n\u001b[1;32m      1\u001b[0m \u001b[0mparsed_examples\u001b[0m\u001b[0;34m[\u001b[0m\u001b[0;36m0\u001b[0m\u001b[0;34m]\u001b[0m\u001b[0;34m\u001b[0m\u001b[0;34m\u001b[0m\u001b[0m\n\u001b[0;32m----> 2\u001b[0;31m \u001b[0mimg\u001b[0m\u001b[0;34m,\u001b[0m \u001b[0mlabel\u001b[0m \u001b[0;34m=\u001b[0m \u001b[0mget_img_from_example\u001b[0m\u001b[0;34m(\u001b[0m\u001b[0mparsed_examples\u001b[0m\u001b[0;34m[\u001b[0m\u001b[0;36m0\u001b[0m\u001b[0;34m]\u001b[0m\u001b[0;34m)\u001b[0m\u001b[0;34m\u001b[0m\u001b[0;34m\u001b[0m\u001b[0m\n\u001b[0m\u001b[1;32m      3\u001b[0m \u001b[0mplt\u001b[0m\u001b[0;34m.\u001b[0m\u001b[0mimshow\u001b[0m\u001b[0;34m(\u001b[0m\u001b[0mimg\u001b[0m\u001b[0;34m)\u001b[0m\u001b[0;34m\u001b[0m\u001b[0;34m\u001b[0m\u001b[0m\n",
      "\u001b[0;32m<ipython-input-183-6b788636d9d3>\u001b[0m in \u001b[0;36mget_img_from_example\u001b[0;34m(parsed_example, intensify)\u001b[0m\n\u001b[1;32m      3\u001b[0m     \u001b[0;32mfor\u001b[0m \u001b[0mi\u001b[0m\u001b[0;34m,\u001b[0m \u001b[0mband\u001b[0m \u001b[0;32min\u001b[0m \u001b[0menumerate\u001b[0m\u001b[0;34m(\u001b[0m\u001b[0;34m[\u001b[0m\u001b[0;34m'B4'\u001b[0m\u001b[0;34m,\u001b[0m \u001b[0;34m'B3'\u001b[0m\u001b[0;34m,\u001b[0m \u001b[0;34m'B2'\u001b[0m\u001b[0;34m]\u001b[0m\u001b[0;34m)\u001b[0m\u001b[0;34m:\u001b[0m\u001b[0;34m\u001b[0m\u001b[0;34m\u001b[0m\u001b[0m\n\u001b[1;32m      4\u001b[0m         \u001b[0mband_data\u001b[0m \u001b[0;34m=\u001b[0m \u001b[0mnp\u001b[0m\u001b[0;34m.\u001b[0m\u001b[0mfrombuffer\u001b[0m\u001b[0;34m(\u001b[0m\u001b[0mparsed_example\u001b[0m\u001b[0;34m[\u001b[0m\u001b[0mband\u001b[0m\u001b[0;34m]\u001b[0m\u001b[0;34m.\u001b[0m\u001b[0mnumpy\u001b[0m\u001b[0;34m(\u001b[0m\u001b[0;34m)\u001b[0m\u001b[0;34m,\u001b[0m \u001b[0mdtype\u001b[0m\u001b[0;34m=\u001b[0m\u001b[0mnp\u001b[0m\u001b[0;34m.\u001b[0m\u001b[0muint8\u001b[0m\u001b[0;34m)\u001b[0m\u001b[0;34m\u001b[0m\u001b[0;34m\u001b[0m\u001b[0m\n\u001b[0;32m----> 5\u001b[0;31m         \u001b[0mband_data\u001b[0m \u001b[0;34m=\u001b[0m \u001b[0mband_data\u001b[0m\u001b[0;34m.\u001b[0m\u001b[0mreshape\u001b[0m\u001b[0;34m(\u001b[0m\u001b[0;36m65\u001b[0m\u001b[0;34m,\u001b[0m \u001b[0;36m65\u001b[0m\u001b[0;34m)\u001b[0m\u001b[0;34m\u001b[0m\u001b[0;34m\u001b[0m\u001b[0m\n\u001b[0m\u001b[1;32m      6\u001b[0m         \u001b[0;32mif\u001b[0m \u001b[0mintensify\u001b[0m\u001b[0;34m:\u001b[0m\u001b[0;34m\u001b[0m\u001b[0;34m\u001b[0m\u001b[0m\n\u001b[1;32m      7\u001b[0m             \u001b[0mband_data\u001b[0m \u001b[0;34m=\u001b[0m \u001b[0mband_data\u001b[0m\u001b[0;34m/\u001b[0m\u001b[0mnp\u001b[0m\u001b[0;34m.\u001b[0m\u001b[0mmax\u001b[0m\u001b[0;34m(\u001b[0m\u001b[0mband_data\u001b[0m\u001b[0;34m)\u001b[0m\u001b[0;34m*\u001b[0m\u001b[0;36m255\u001b[0m\u001b[0;34m\u001b[0m\u001b[0;34m\u001b[0m\u001b[0m\n",
      "\u001b[0;31mValueError\u001b[0m: cannot reshape array of size 33800 into shape (65,65)"
     ]
    }
   ],
   "source": [
    "parsed_examples[0]\n",
    "img, label = get_img_from_example(parsed_examples[0])\n",
    "plt.imshow(img)"
   ]
  },
  {
   "cell_type": "code",
   "execution_count": 54,
   "metadata": {
    "ExecuteTime": {
     "end_time": "2020-11-30T13:34:25.120720Z",
     "start_time": "2020-11-30T13:34:25.112507Z"
    }
   },
   "outputs": [
    {
     "data": {
      "text/plain": [
       "14.77316032452744"
      ]
     },
     "execution_count": 54,
     "metadata": {},
     "output_type": "execute_result"
    }
   ],
   "source": [
    "img.std()"
   ]
  },
  {
   "cell_type": "code",
   "execution_count": 56,
   "metadata": {
    "ExecuteTime": {
     "end_time": "2020-11-30T13:34:36.324016Z",
     "start_time": "2020-11-30T13:34:36.232475Z"
    },
    "scrolled": true
   },
   "outputs": [
    {
     "name": "stderr",
     "output_type": "stream",
     "text": [
      "<ipython-input-56-68551c9da741>:9: UserWarning: Matplotlib is currently using module://ipykernel.pylab.backend_inline, which is a non-GUI backend, so cannot show the figure.\n",
      "  fig.show()\n"
     ]
    },
    {
     "data": {
      "image/png": "[encoded data removed]",
      "text/plain": [
       "<Figure size 1600x2400 with 1 Axes>"
      ]
     },
     "metadata": {},
     "output_type": "display_data"
    }
   ],
   "source": [
    "fig=plt.figure(figsize=(20, 30), dpi= 80, facecolor='w', edgecolor='k')\n",
    "for i in range(12,13):\n",
    "    plt.subplot(10, 10, i)\n",
    "    img, label = get_img_from_example(parsed_examples[i])\n",
    "    plt.imshow(img).axes.get_xaxis().set_visible(False)\n",
    "    plt.imshow(img).axes.get_yaxis().set_visible(False)\n",
    "    plt.title(str(label))\n",
    "\n",
    "fig.show()"
   ]
  },
  {
   "cell_type": "code",
   "execution_count": 57,
   "metadata": {
    "ExecuteTime": {
     "end_time": "2020-11-30T13:34:53.788767Z",
     "start_time": "2020-11-30T13:34:53.687625Z"
    }
   },
   "outputs": [],
   "source": [
    "dirlist = lambda di: [os.path.join(di, file) for file in os.listdir(di) if 'part-' in file]\n",
    "training_files = dirlist('../droughtwatch/data/val/')\n",
    "\n",
    "def parse_visual(data):\n",
    "    dataset = tf.data.TFRecordDataset(data)\n",
    "    # pattern for one part file\n",
    "    # dataset = tf.data.TFRecordDataset('part-r-00099')\n",
    "    iterator = tf.compat.v1.data.make_one_shot_iterator(dataset)\n",
    "\n",
    "    features = {\n",
    "        'B2': tf.io.FixedLenFeature([], tf.string),\n",
    "        'B3': tf.io.FixedLenFeature([], tf.string),\n",
    "        'B4': tf.io.FixedLenFeature([], tf.string),\n",
    "        'label': tf.io.FixedLenFeature([], tf.int64),\n",
    "    }\n",
    "\n",
    "    parsed_examples = [tf.io.parse_single_example(data, features) for data in iterator]\n",
    "    return parsed_examples\n",
    "\n",
    "parsed_examples = parse_visual(training_files[0])"
   ]
  },
  {
   "cell_type": "code",
   "execution_count": 15,
   "metadata": {
    "ExecuteTime": {
     "end_time": "2020-11-30T11:46:04.097046Z",
     "start_time": "2020-11-30T11:46:04.090192Z"
    }
   },
   "outputs": [],
   "source": [
    "def get_img_from_example(parsed_example, intensify=True):\n",
    "    rgbArray = np.zeros((65,65,3), 'uint8')\n",
    "    for i, band in enumerate(['B4', 'B3', 'B2']):\n",
    "        band_data = np.frombuffer(parsed_example[band].numpy(), dtype=np.uint8)\n",
    "        band_data = band_data.reshape(65, 65)\n",
    "        if intensify:\n",
    "            band_data = band_data/np.max(band_data)*255\n",
    "        else:\n",
    "            band_data = band_data*255\n",
    "        rgbArray[..., i] = band_data\n",
    "        \n",
    "    label = tf.cast(parsed_example['label'], tf.int32).numpy()\n",
    "        \n",
    "    return rgbArray, label"
   ]
  },
  {
   "cell_type": "code",
   "execution_count": 60,
   "metadata": {
    "ExecuteTime": {
     "end_time": "2020-11-30T13:36:36.780802Z",
     "start_time": "2020-11-30T13:36:35.744659Z"
    }
   },
   "outputs": [
    {
     "name": "stderr",
     "output_type": "stream",
     "text": [
      "<ipython-input-60-4866bb9c4213>:9: UserWarning: Matplotlib is currently using module://ipykernel.pylab.backend_inline, which is a non-GUI backend, so cannot show the figure.\n",
      "  fig.show()\n"
     ]
    },
    {
     "data": {
      "image/png": "[encoded data removed]",
      "text/plain": [
       "<Figure size 1600x2400 with 25 Axes>"
      ]
     },
     "metadata": {},
     "output_type": "display_data"
    }
   ],
   "source": [
    "fig=plt.figure(figsize=(20, 30), dpi= 80, facecolor='w', edgecolor='k')\n",
    "for i in range(1,26):\n",
    "    plt.subplot(20, 20, i)\n",
    "    img, label = get_img_from_example(parsed_examples[i+15])\n",
    "    plt.imshow(img).axes.get_xaxis().set_visible(False)\n",
    "    plt.imshow(img).axes.get_yaxis().set_visible(False)\n",
    "    plt.title(str(label))\n",
    "\n",
    "fig.show()"
   ]
  },
  {
   "cell_type": "markdown",
   "metadata": {},
   "source": [
    "# Load images from data folder"
   ]
  },
  {
   "cell_type": "code",
   "execution_count": 17,
   "metadata": {
    "ExecuteTime": {
     "end_time": "2020-11-30T11:46:10.613573Z",
     "start_time": "2020-11-30T11:46:10.609345Z"
    }
   },
   "outputs": [],
   "source": [
    "def file_list_from_folder(folder, data_path):\n",
    "  folderpath = os.path.join(data_path, folder)\n",
    "  filelist = []\n",
    "  for filename in os.listdir(folderpath):\n",
    "    if filename.startswith('part-') and not filename.endswith('gstmp'):\n",
    "      filelist.append(os.path.join(folderpath, filename))\n",
    "  return filelist"
   ]
  },
  {
   "cell_type": "code",
   "execution_count": 19,
   "metadata": {
    "ExecuteTime": {
     "end_time": "2020-11-30T11:46:26.049933Z",
     "start_time": "2020-11-30T11:46:26.039876Z"
    }
   },
   "outputs": [],
   "source": [
    "train = file_list_from_folder(\"train\", \"../droughtwatch/data/\")\n",
    "val = file_list_from_folder(\"val\", '../droughtwatch/data/')"
   ]
  },
  {
   "cell_type": "code",
   "execution_count": 30,
   "metadata": {
    "ExecuteTime": {
     "end_time": "2020-11-30T11:49:28.668088Z",
     "start_time": "2020-11-30T11:49:28.656119Z"
    }
   },
   "outputs": [],
   "source": [
    "features = {\n",
    "  'B1': tf.io.FixedLenFeature([], tf.string),\n",
    "  'B2': tf.io.FixedLenFeature([], tf.string),\n",
    "  'B3': tf.io.FixedLenFeature([], tf.string),\n",
    "  'B4': tf.io.FixedLenFeature([], tf.string),\n",
    "  'B5': tf.io.FixedLenFeature([], tf.string),\n",
    "  'B6': tf.io.FixedLenFeature([], tf.string),\n",
    "  'B7': tf.io.FixedLenFeature([], tf.string),\n",
    "  'B8': tf.io.FixedLenFeature([], tf.string),\n",
    "  'B9': tf.io.FixedLenFeature([], tf.string),\n",
    "  'B10': tf.io.FixedLenFeature([], tf.string),\n",
    "  'B11': tf.io.FixedLenFeature([], tf.string),\n",
    "  'label': tf.io.FixedLenFeature([], tf.int64),\n",
    "}     "
   ]
  },
  {
   "cell_type": "code",
   "execution_count": 105,
   "metadata": {
    "ExecuteTime": {
     "end_time": "2020-11-30T14:46:49.925421Z",
     "start_time": "2020-11-30T14:46:49.912201Z"
    }
   },
   "outputs": [],
   "source": [
    "def parse_tfrecords(filelist, batch_size, buffer_size, include_viz=False):\n",
    "  # try a subset of possible bands\n",
    "  def _parse_(serialized_example, keylist=['B1','B4', 'B3', 'B2', 'B5', 'B6', 'B7', 'B8','B9','B10']):\n",
    "    example = tf.io.parse_single_example(serialized_example, features)\n",
    "    \n",
    "    def getband(example_key):\n",
    "      img = tf.io.decode_raw(example_key, tf.uint8)\n",
    "      return tf.reshape(img[:IMG_DIM**2], shape=(IMG_DIM, IMG_DIM, 1))\n",
    "    \n",
    "    bandlist = [getband(example[key]) for key in keylist]\n",
    "    # combine bands into tensor\n",
    "    image = tf.concat(bandlist, -1)\n",
    "\n",
    "    # one-hot encode ground truth labels \n",
    "    label = tf.cast(example['label'], tf.int32)\n",
    "    label = tf.one_hot(label, NUM_CLASSES)\n",
    "   \n",
    "    # if logging RGB images as examples, generate RGB image from 11-channel satellite image\n",
    "    if include_viz:\n",
    "      image = get_img_from_example(example)\n",
    "      return {'image' : image, 'label': example['label']}, label\n",
    "    return {'image': image}, label\n",
    "    \n",
    "  tfrecord_dataset = tf.data.TFRecordDataset(filelist) \n",
    "  tfrecord_dataset = tfrecord_dataset.map(lambda x:_parse_(x)).shuffle(buffer_size).repeat(-1).batch(batch_size)\n",
    "  tfrecord_iterator = tfrecord_dataset.make_one_shot_iterator()\n",
    "  image, label = tfrecord_iterator.get_next()\n",
    "  return image, label"
   ]
  },
  {
   "cell_type": "code",
   "execution_count": 93,
   "metadata": {
    "ExecuteTime": {
     "end_time": "2020-11-30T14:39:41.421090Z",
     "start_time": "2020-11-30T14:39:41.417082Z"
    }
   },
   "outputs": [],
   "source": [
    "NUM_TRAIN = 16000\n",
    "NUM_VAL = 3200\n",
    "IMG_DIM = 65\n",
    "NUM_CLASSES = 4\n",
    "TOTAL_TRAIN = 40000\n",
    "TOTAL_VAL = 10778\n",
    "TOTAL_TRAIN2 = 86317\n",
    "TOTAL_VAL2 = 10778"
   ]
  },
  {
   "cell_type": "code",
   "execution_count": 107,
   "metadata": {
    "ExecuteTime": {
     "end_time": "2020-11-30T14:47:20.017693Z",
     "start_time": "2020-11-30T14:47:20.012507Z"
    }
   },
   "outputs": [],
   "source": [
    "def load_data(data_path):\n",
    "  train = file_list_from_folder(\"train\", data_path)\n",
    "  val = file_list_from_folder(\"val\", data_path)\n",
    "  return train, val"
   ]
  },
  {
   "cell_type": "code",
   "execution_count": 108,
   "metadata": {
    "ExecuteTime": {
     "end_time": "2020-11-30T14:47:20.528505Z",
     "start_time": "2020-11-30T14:47:20.504637Z"
    }
   },
   "outputs": [],
   "source": [
    "train_tfrecords, val_tfrecords = load_data(\"../droughtwatch/data/\")"
   ]
  },
  {
   "cell_type": "code",
   "execution_count": 109,
   "metadata": {
    "ExecuteTime": {
     "end_time": "2020-11-30T14:48:30.825073Z",
     "start_time": "2020-11-30T14:47:21.220345Z"
    }
   },
   "outputs": [],
   "source": [
    "train_images, train_labels = parse_tfrecords(train_tfrecords, TOTAL_TRAIN, TOTAL_TRAIN)\n",
    "val_images, val_labels = parse_tfrecords(val_tfrecords, TOTAL_VAL, TOTAL_VAL)\n",
    "  "
   ]
  },
  {
   "cell_type": "code",
   "execution_count": 110,
   "metadata": {
    "ExecuteTime": {
     "end_time": "2020-11-30T14:48:31.352968Z",
     "start_time": "2020-11-30T14:48:31.341708Z"
    }
   },
   "outputs": [
    {
     "data": {
      "text/plain": [
       "dict"
      ]
     },
     "execution_count": 110,
     "metadata": {},
     "output_type": "execute_result"
    }
   ],
   "source": [
    "type(train_images)"
   ]
  },
  {
   "cell_type": "code",
   "execution_count": 111,
   "metadata": {
    "ExecuteTime": {
     "end_time": "2020-11-30T14:48:31.731940Z",
     "start_time": "2020-11-30T14:48:31.726963Z"
    }
   },
   "outputs": [
    {
     "data": {
      "text/plain": [
       "TensorShape([40000, 65, 65, 10])"
      ]
     },
     "execution_count": 111,
     "metadata": {},
     "output_type": "execute_result"
    }
   ],
   "source": [
    "train_images['image'].shape"
   ]
  },
  {
   "cell_type": "code",
   "execution_count": 112,
   "metadata": {
    "ExecuteTime": {
     "end_time": "2020-11-30T14:48:32.306228Z",
     "start_time": "2020-11-30T14:48:32.297267Z"
    }
   },
   "outputs": [],
   "source": [
    "img33 = train_images['image'][33].numpy()"
   ]
  },
  {
   "cell_type": "code",
   "execution_count": 113,
   "metadata": {
    "ExecuteTime": {
     "end_time": "2020-11-30T14:48:32.800526Z",
     "start_time": "2020-11-30T14:48:32.797641Z"
    }
   },
   "outputs": [],
   "source": [
    "img33 = img33[:,:,1:4]"
   ]
  },
  {
   "cell_type": "code",
   "execution_count": 159,
   "metadata": {
    "ExecuteTime": {
     "end_time": "2020-11-30T15:08:01.732938Z",
     "start_time": "2020-11-30T15:08:01.726864Z"
    }
   },
   "outputs": [],
   "source": [
    "def transform_image_torgb(image):\n",
    "    return image[:,:,1:4]"
   ]
  },
  {
   "cell_type": "code",
   "execution_count": 160,
   "metadata": {
    "ExecuteTime": {
     "end_time": "2020-11-30T15:08:29.803496Z",
     "start_time": "2020-11-30T15:08:29.795266Z"
    }
   },
   "outputs": [],
   "source": [
    "#for reference only\n",
    "def get_img_from_example(parsed_example, intensify=True):\n",
    "    rgbArray = np.zeros((65,65,3), 'uint8')\n",
    "    for i, band in enumerate(['B4', 'B3', 'B2']):\n",
    "        band_data = np.frombuffer(parsed_example[band].numpy(), dtype=np.uint8)\n",
    "        band_data = band_data.reshape(65, 65)\n",
    "        if intensify:\n",
    "            band_data = band_data/np.max(band_data)*255\n",
    "        else:\n",
    "            band_data = band_data*255\n",
    "        rgbArray[..., i] = band_data\n",
    "        \n",
    "    label = tf.cast(parsed_example['label'], tf.int32).numpy()\n",
    "        \n",
    "    return rgbArray, label"
   ]
  },
  {
   "cell_type": "code",
   "execution_count": 166,
   "metadata": {
    "ExecuteTime": {
     "end_time": "2020-11-30T15:13:16.896664Z",
     "start_time": "2020-11-30T15:13:16.891232Z"
    }
   },
   "outputs": [],
   "source": [
    "def plot_image(img_nb, train_images):\n",
    "    new_img_array = np.zeros((65,65,3), 'uint8')\n",
    "    img_rgb = transform_image_torgb(train_images['image'][img_nb]).numpy()\n",
    "    for i, band in enumerate(['B4', 'B3', 'B2']): #B4, B3, B2 for our reference\n",
    "        img_rgb = img_rgb.reshape(65, 65)\n",
    "        img_rgb = img_rgb / np.max(img_rgb)*255\n",
    "        new_img_array[...,i] = img_rgb\n",
    "    return plt.imshow(img_rgb)"
   ]
  },
  {
   "cell_type": "code",
   "execution_count": 167,
   "metadata": {
    "ExecuteTime": {
     "end_time": "2020-11-30T15:13:17.594349Z",
     "start_time": "2020-11-30T15:13:17.569176Z"
    }
   },
   "outputs": [
    {
     "ename": "ValueError",
     "evalue": "cannot reshape array of size 12675 into shape (65,65)",
     "output_type": "error",
     "traceback": [
      "\u001b[0;31m---------------------------------------------------------------------------\u001b[0m",
      "\u001b[0;31mValueError\u001b[0m                                Traceback (most recent call last)",
      "\u001b[0;32m<ipython-input-167-ec6af410b299>\u001b[0m in \u001b[0;36m<module>\u001b[0;34m\u001b[0m\n\u001b[0;32m----> 1\u001b[0;31m \u001b[0mplot_image\u001b[0m\u001b[0;34m(\u001b[0m\u001b[0;36m22\u001b[0m\u001b[0;34m,\u001b[0m\u001b[0mtrain_images\u001b[0m\u001b[0;34m)\u001b[0m\u001b[0;34m\u001b[0m\u001b[0;34m\u001b[0m\u001b[0m\n\u001b[0m",
      "\u001b[0;32m<ipython-input-166-9d5c517dae67>\u001b[0m in \u001b[0;36mplot_image\u001b[0;34m(img_nb, train_images)\u001b[0m\n\u001b[1;32m      3\u001b[0m     \u001b[0mimg_rgb\u001b[0m \u001b[0;34m=\u001b[0m \u001b[0mtransform_image_torgb\u001b[0m\u001b[0;34m(\u001b[0m\u001b[0mtrain_images\u001b[0m\u001b[0;34m[\u001b[0m\u001b[0;34m'image'\u001b[0m\u001b[0;34m]\u001b[0m\u001b[0;34m[\u001b[0m\u001b[0mimg_nb\u001b[0m\u001b[0;34m]\u001b[0m\u001b[0;34m)\u001b[0m\u001b[0;34m.\u001b[0m\u001b[0mnumpy\u001b[0m\u001b[0;34m(\u001b[0m\u001b[0;34m)\u001b[0m\u001b[0;34m\u001b[0m\u001b[0;34m\u001b[0m\u001b[0m\n\u001b[1;32m      4\u001b[0m     \u001b[0;32mfor\u001b[0m \u001b[0mi\u001b[0m\u001b[0;34m,\u001b[0m \u001b[0mband\u001b[0m \u001b[0;32min\u001b[0m \u001b[0menumerate\u001b[0m\u001b[0;34m(\u001b[0m\u001b[0;34m[\u001b[0m\u001b[0;34m'B4'\u001b[0m\u001b[0;34m,\u001b[0m \u001b[0;34m'B3'\u001b[0m\u001b[0;34m,\u001b[0m \u001b[0;34m'B2'\u001b[0m\u001b[0;34m]\u001b[0m\u001b[0;34m)\u001b[0m\u001b[0;34m:\u001b[0m \u001b[0;31m#B4, B3, B2 for our reference\u001b[0m\u001b[0;34m\u001b[0m\u001b[0;34m\u001b[0m\u001b[0m\n\u001b[0;32m----> 5\u001b[0;31m         \u001b[0mimg_rgb\u001b[0m \u001b[0;34m=\u001b[0m \u001b[0mimg_rgb\u001b[0m\u001b[0;34m.\u001b[0m\u001b[0mreshape\u001b[0m\u001b[0;34m(\u001b[0m\u001b[0;36m65\u001b[0m\u001b[0;34m,\u001b[0m \u001b[0;36m65\u001b[0m\u001b[0;34m)\u001b[0m\u001b[0;34m\u001b[0m\u001b[0;34m\u001b[0m\u001b[0m\n\u001b[0m\u001b[1;32m      6\u001b[0m         \u001b[0mimg_rgb\u001b[0m \u001b[0;34m=\u001b[0m \u001b[0mimg_rgb\u001b[0m \u001b[0;34m/\u001b[0m \u001b[0mnp\u001b[0m\u001b[0;34m.\u001b[0m\u001b[0mmax\u001b[0m\u001b[0;34m(\u001b[0m\u001b[0mimg_rgb\u001b[0m\u001b[0;34m)\u001b[0m\u001b[0;34m*\u001b[0m\u001b[0;36m255\u001b[0m\u001b[0;34m\u001b[0m\u001b[0;34m\u001b[0m\u001b[0m\n\u001b[1;32m      7\u001b[0m         \u001b[0mnew_img_array\u001b[0m\u001b[0;34m[\u001b[0m\u001b[0;34m...\u001b[0m\u001b[0;34m,\u001b[0m\u001b[0mi\u001b[0m\u001b[0;34m]\u001b[0m \u001b[0;34m=\u001b[0m \u001b[0mimg_rgb\u001b[0m\u001b[0;34m\u001b[0m\u001b[0;34m\u001b[0m\u001b[0m\n",
      "\u001b[0;31mValueError\u001b[0m: cannot reshape array of size 12675 into shape (65,65)"
     ]
    }
   ],
   "source": [
    "plot_image(22,train_images)"
   ]
  },
  {
   "cell_type": "code",
   "execution_count": 161,
   "metadata": {
    "ExecuteTime": {
     "end_time": "2020-11-30T15:10:32.127198Z",
     "start_time": "2020-11-30T15:10:32.122758Z"
    }
   },
   "outputs": [
    {
     "name": "stdout",
     "output_type": "stream",
     "text": [
      "0 B4\n",
      "1 B3\n",
      "2 B2\n"
     ]
    }
   ],
   "source": [
    "for i, band in enumerate(['B4', 'B3', 'B2']):\n",
    "    print(i, band)"
   ]
  },
  {
   "cell_type": "code",
   "execution_count": 158,
   "metadata": {
    "ExecuteTime": {
     "end_time": "2020-11-30T15:05:39.005764Z",
     "start_time": "2020-11-30T15:05:38.998873Z"
    }
   },
   "outputs": [
    {
     "data": {
      "text/plain": [
       "TensorShape([65, 65])"
      ]
     },
     "execution_count": 158,
     "metadata": {},
     "output_type": "execute_result"
    }
   ],
   "source": [
    "train_images['image'][0][:,:,1]"
   ]
  },
  {
   "cell_type": "code",
   "execution_count": 154,
   "metadata": {
    "ExecuteTime": {
     "end_time": "2020-11-30T15:01:41.889582Z",
     "start_time": "2020-11-30T15:01:41.665380Z"
    }
   },
   "outputs": [
    {
     "name": "stderr",
     "output_type": "stream",
     "text": [
      "Clipping input data to the valid range for imshow with RGB data ([0..1] for floats or [0..255] for integers).\n"
     ]
    },
    {
     "data": {
      "text/plain": [
       "<matplotlib.image.AxesImage at 0x14288ceb0>"
      ]
     },
     "execution_count": 154,
     "metadata": {},
     "output_type": "execute_result"
    },
    {
     "data": {
      "image/png": "[encoded data removed]",
      "text/plain": [
       "<Figure size 432x288 with 1 Axes>"
      ]
     },
     "metadata": {
      "needs_background": "light"
     },
     "output_type": "display_data"
    }
   ],
   "source": [
    "plot_image(24,train_images)"
   ]
  },
  {
   "cell_type": "code",
   "execution_count": 149,
   "metadata": {
    "ExecuteTime": {
     "end_time": "2020-11-30T14:58:40.300497Z",
     "start_time": "2020-11-30T14:58:40.281548Z"
    }
   },
   "outputs": [
    {
     "data": {
      "text/plain": [
       "array([  0,   1,   4,   5,   6,   7,   8,   9,  10,  11,  12,  13,  14,\n",
       "        15,  16,  17,  18,  19,  20,  21,  22,  23,  24,  25,  26,  27,\n",
       "        28,  29,  30,  31,  32,  33,  34,  35,  36,  37,  38,  39,  40,\n",
       "        41,  42,  43,  44,  45,  46,  47,  48,  49,  50,  51,  52,  53,\n",
       "        54,  55,  56,  57,  58,  59,  60,  61,  62,  63,  64,  65,  66,\n",
       "        67,  68,  69,  70,  71,  72,  73,  74,  75,  76,  77,  78,  79,\n",
       "        80,  81,  82,  83,  84,  85,  86,  87,  88,  89,  90,  91,  92,\n",
       "        93,  94,  95,  96,  97,  98,  99, 100, 101, 102, 103, 104, 105,\n",
       "       106, 107, 108, 109, 110, 111, 112, 113, 114, 115, 116, 117, 118,\n",
       "       119, 120, 121, 122, 123, 124, 125, 126, 127, 195, 196, 197, 198,\n",
       "       199, 200, 201, 202, 203, 204, 205, 206, 207, 208], dtype=uint8)"
      ]
     },
     "execution_count": 149,
     "metadata": {},
     "output_type": "execute_result"
    }
   ],
   "source": [
    "np.unique(train_images['image'][22])"
   ]
  },
  {
   "cell_type": "code",
   "execution_count": 79,
   "metadata": {
    "ExecuteTime": {
     "end_time": "2020-11-30T14:36:38.441621Z",
     "start_time": "2020-11-30T14:36:38.433353Z"
    }
   },
   "outputs": [
    {
     "data": {
      "text/plain": [
       "tensorflow.python.framework.ops.EagerTensor"
      ]
     },
     "execution_count": 79,
     "metadata": {},
     "output_type": "execute_result"
    }
   ],
   "source": [
    "type(train_labels)"
   ]
  },
  {
   "cell_type": "code",
   "execution_count": 36,
   "metadata": {
    "ExecuteTime": {
     "end_time": "2020-11-30T11:50:23.398983Z",
     "start_time": "2020-11-30T11:50:23.365105Z"
    }
   },
   "outputs": [],
   "source": [
    "def initialize_model4():\n",
    "    from tensorflow.keras import layers, initializers\n",
    "    model = tf.keras.Sequential()\n",
    "    model.add(tf.keras.layers.InputLayer(input_shape=(65, 65, 7), name='image'))\n",
    "    model.add(layers.Conv2D(32, kernel_size=(2, 2), activation='relu'))\n",
    "    model.add(layers.MaxPooling2D(pool_size=(2, 2)))\n",
    "    model.add(layers.Conv2D(64, kernel_size=(2, 2), activation='relu'))\n",
    "    model.add(layers.Conv2D(64, kernel_size=(2, 2), activation='relu'))\n",
    "    model.add(layers.MaxPooling2D(pool_size=(2, 2)))\n",
    "    model.add(layers.Dropout(0.2))\n",
    "    model.add(layers.Conv2D(filters=128, kernel_size=(2, 2), activation='relu'))\n",
    "    model.add(layers.Conv2D(filters=128, kernel_size=(2, 2), activation='relu'))\n",
    "    model.add(layers.MaxPooling2D(pool_size=(2, 2)))\n",
    "    model.add(layers.Dropout(0.2))\n",
    "    model.add(layers.Flatten())\n",
    "    model.add(layers.Dense(64, activation='relu'))\n",
    "    model.add(layers.Dense(64, activation='relu'))\n",
    "    model.add(layers.Dense(4, activation='softmax'))\n",
    "    # set up optimizer\n",
    "    model.compile(loss=tf.keras.losses.categorical_crossentropy,\n",
    "              optimizer='adam',\n",
    "              metrics=['accuracy'])\n",
    "    return model"
   ]
  },
  {
   "cell_type": "code",
   "execution_count": 37,
   "metadata": {
    "ExecuteTime": {
     "end_time": "2020-11-30T11:50:23.570732Z",
     "start_time": "2020-11-30T11:50:23.532651Z"
    }
   },
   "outputs": [],
   "source": [
    "from tensorflow.keras import optimizers\n",
    "\n",
    "def compile_model(model):\n",
    "    model.compile(loss='categorical_crossentropy',\n",
    "                  optimizer='adam',\n",
    "                  metrics=['accuracy'])\n",
    "    return model"
   ]
  },
  {
   "cell_type": "code",
   "execution_count": 38,
   "metadata": {
    "ExecuteTime": {
     "end_time": "2020-11-30T11:50:23.778923Z",
     "start_time": "2020-11-30T11:50:23.756260Z"
    }
   },
   "outputs": [],
   "source": [
    "def plot_history(history, title='', axs=None, exp_name=\"\"):\n",
    "    if axs is not None:\n",
    "        ax1, ax2 = axs\n",
    "    else:\n",
    "        f, (ax1, ax2) = plt.subplots(1, 2, figsize=(12, 4))\n",
    "    \n",
    "    if len(exp_name) > 0 and exp_name[0] != '_':\n",
    "        exp_name = '_' + exp_name\n",
    "    ax1.plot(history.history['loss'], label='train' + exp_name)\n",
    "    ax1.plot(history.history['val_loss'], label='val' + exp_name)\n",
    "    ax1.set_ylim(0., 2.2)\n",
    "    ax1.set_title('loss')\n",
    "    ax1.legend()\n",
    "\n",
    "    ax2.plot(history.history['accuracy'], label='train accuracy'  + exp_name)\n",
    "    ax2.plot(history.history['val_accuracy'], label='val accuracy'  + exp_name)\n",
    "    ax2.set_ylim(0.25, 1.)\n",
    "    ax2.set_title('Accuracy')\n",
    "    ax2.legend()\n",
    "    return (ax1, ax2)\n"
   ]
  },
  {
   "cell_type": "markdown",
   "metadata": {},
   "source": [
    "# Data augmentation\n",
    "To easily improve the accuracy of a model without much work, we can generate new data: the data augmentation. This widely used technique consists in applying little transformation to input images without changing its label, as mirroring, cropping, intensity changes, etc. The improved performance simply results from the Neural network training with more different data.\n",
    "\n",
    "The natural way to generate these new images is to apply some transformations and train the model on the original and new images. However, such procedure requires to keep all these images in memory : it can be very intensive, to the point that your computer memory cannot hold any new image (your computer might even crash).\n",
    "\n",
    "For this reason, we will augment the data on the fly, meaning that we will create new data, use them to fit the model, then delete them. Here, Keras is our friend as it provides the utils to do all this job for us. Look at the following code : the general writing can seem odd but don't be panicked: just look at the function arguments that defines the augmentation techniques that we will use and that you can check in the documentation."
   ]
  },
  {
   "cell_type": "code",
   "execution_count": 39,
   "metadata": {
    "ExecuteTime": {
     "end_time": "2020-11-30T11:50:26.280208Z",
     "start_time": "2020-11-30T11:50:23.994221Z"
    }
   },
   "outputs": [],
   "source": [
    "# The data generator\n",
    "X_tr = train_images[\"image\"][:30000]\n",
    "y_tr = train_labels[:30000]\n",
    "X_val = train_images[\"image\"][30000:]\n",
    "y_val = train_labels[30000:]"
   ]
  },
  {
   "cell_type": "code",
   "execution_count": 40,
   "metadata": {
    "ExecuteTime": {
     "end_time": "2020-11-30T11:50:49.170913Z",
     "start_time": "2020-11-30T11:50:49.109357Z"
    }
   },
   "outputs": [
    {
     "data": {
      "text/plain": [
       "TensorShape([30000, 65, 65, 7])"
      ]
     },
     "execution_count": 40,
     "metadata": {},
     "output_type": "execute_result"
    }
   ],
   "source": [
    "X_tr.shape"
   ]
  },
  {
   "cell_type": "code",
   "execution_count": 41,
   "metadata": {
    "ExecuteTime": {
     "end_time": "2020-11-30T11:51:01.521403Z",
     "start_time": "2020-11-30T11:50:52.978694Z"
    }
   },
   "outputs": [],
   "source": [
    "indices = np.where([i[i.std() >= 10].all() for i in X_tr.numpy()])\n",
    "X_tr, y_tr = X_tr.numpy(), y_tr.numpy()\n",
    "X_tr, y_tr = X_tr[indices], y_tr[indices]"
   ]
  },
  {
   "cell_type": "code",
   "execution_count": 42,
   "metadata": {
    "ExecuteTime": {
     "end_time": "2020-11-30T11:51:04.266245Z",
     "start_time": "2020-11-30T11:51:01.756405Z"
    }
   },
   "outputs": [],
   "source": [
    "indices = np.where([i[i.std() >= 10].all() for i in X_val.numpy()])\n",
    "X_val, y_val = X_val.numpy(), y_val.numpy()\n",
    "X_val, y_val = X_val[indices], y_val[indices]"
   ]
  },
  {
   "cell_type": "code",
   "execution_count": 43,
   "metadata": {
    "ExecuteTime": {
     "end_time": "2020-11-30T11:51:04.552206Z",
     "start_time": "2020-11-30T11:51:04.518270Z"
    }
   },
   "outputs": [
    {
     "data": {
      "text/plain": [
       "(29933, 65, 65, 7)"
      ]
     },
     "execution_count": 43,
     "metadata": {},
     "output_type": "execute_result"
    }
   ],
   "source": [
    "X_tr.shape"
   ]
  },
  {
   "cell_type": "code",
   "execution_count": 27,
   "metadata": {},
   "outputs": [],
   "source": [
    "# from tensorflow.keras.preprocessing.image import ImageDataGenerator\n",
    "\n",
    "# datagen = ImageDataGenerator(\n",
    "#     featurewise_center=False,\n",
    "#     featurewise_std_normalization=False,\n",
    "#     rotation_range=10,\n",
    "#     width_shift_range=0.2,\n",
    "#     height_shift_range=0.2,\n",
    "#     horizontal_flip=True,\n",
    "#     zoom_range=(0.8, 1.2),) \n",
    "\n",
    "# datagen.fit(train_images[\"image\"])"
   ]
  },
  {
   "cell_type": "code",
   "execution_count": 28,
   "metadata": {
    "collapsed": true
   },
   "outputs": [
    {
     "name": "stdout",
     "output_type": "stream",
     "text": [
      "Epoch 1/1000\n",
      "503/936 [===============>..............] - ETA: 50s - loss: 1.0455 - accuracy: 0.6103"
     ]
    },
    {
     "ename": "KeyboardInterrupt",
     "evalue": "",
     "output_type": "error",
     "traceback": [
      "\u001b[0;31m---------------------------------------------------------------------------\u001b[0m",
      "\u001b[0;31mKeyboardInterrupt\u001b[0m                         Traceback (most recent call last)",
      "\u001b[0;32m<ipython-input-28-70f1e32cbc40>\u001b[0m in \u001b[0;36m<module>\u001b[0;34m\u001b[0m\n\u001b[1;32m     12\u001b[0m \u001b[0;31m#                         callbacks=[es],\u001b[0m\u001b[0;34m\u001b[0m\u001b[0;34m\u001b[0m\u001b[0;34m\u001b[0m\u001b[0m\n\u001b[1;32m     13\u001b[0m \u001b[0;31m#                         validation_data=(X_val, y_val), batch_size = 32)\u001b[0m\u001b[0;34m\u001b[0m\u001b[0;34m\u001b[0m\u001b[0;34m\u001b[0m\u001b[0m\n\u001b[0;32m---> 14\u001b[0;31m history_2 = model.fit(X_tr,y_tr, \n\u001b[0m\u001b[1;32m     15\u001b[0m                         \u001b[0mepochs\u001b[0m\u001b[0;34m=\u001b[0m\u001b[0;36m1000\u001b[0m\u001b[0;34m,\u001b[0m\u001b[0;34m\u001b[0m\u001b[0;34m\u001b[0m\u001b[0m\n\u001b[1;32m     16\u001b[0m                         \u001b[0mcallbacks\u001b[0m\u001b[0;34m=\u001b[0m\u001b[0;34m[\u001b[0m\u001b[0mes\u001b[0m\u001b[0;34m]\u001b[0m\u001b[0;34m,\u001b[0m\u001b[0;34m\u001b[0m\u001b[0;34m\u001b[0m\u001b[0m\n",
      "\u001b[0;32m~/.pyenv/versions/lewagon/lib/python3.8/site-packages/tensorflow/python/keras/engine/training.py\u001b[0m in \u001b[0;36m_method_wrapper\u001b[0;34m(self, *args, **kwargs)\u001b[0m\n\u001b[1;32m    106\u001b[0m   \u001b[0;32mdef\u001b[0m \u001b[0m_method_wrapper\u001b[0m\u001b[0;34m(\u001b[0m\u001b[0mself\u001b[0m\u001b[0;34m,\u001b[0m \u001b[0;34m*\u001b[0m\u001b[0margs\u001b[0m\u001b[0;34m,\u001b[0m \u001b[0;34m**\u001b[0m\u001b[0mkwargs\u001b[0m\u001b[0;34m)\u001b[0m\u001b[0;34m:\u001b[0m\u001b[0;34m\u001b[0m\u001b[0;34m\u001b[0m\u001b[0m\n\u001b[1;32m    107\u001b[0m     \u001b[0;32mif\u001b[0m \u001b[0;32mnot\u001b[0m \u001b[0mself\u001b[0m\u001b[0;34m.\u001b[0m\u001b[0m_in_multi_worker_mode\u001b[0m\u001b[0;34m(\u001b[0m\u001b[0;34m)\u001b[0m\u001b[0;34m:\u001b[0m  \u001b[0;31m# pylint: disable=protected-access\u001b[0m\u001b[0;34m\u001b[0m\u001b[0;34m\u001b[0m\u001b[0m\n\u001b[0;32m--> 108\u001b[0;31m       \u001b[0;32mreturn\u001b[0m \u001b[0mmethod\u001b[0m\u001b[0;34m(\u001b[0m\u001b[0mself\u001b[0m\u001b[0;34m,\u001b[0m \u001b[0;34m*\u001b[0m\u001b[0margs\u001b[0m\u001b[0;34m,\u001b[0m \u001b[0;34m**\u001b[0m\u001b[0mkwargs\u001b[0m\u001b[0;34m)\u001b[0m\u001b[0;34m\u001b[0m\u001b[0;34m\u001b[0m\u001b[0m\n\u001b[0m\u001b[1;32m    109\u001b[0m \u001b[0;34m\u001b[0m\u001b[0m\n\u001b[1;32m    110\u001b[0m     \u001b[0;31m# Running inside `run_distribute_coordinator` already.\u001b[0m\u001b[0;34m\u001b[0m\u001b[0;34m\u001b[0m\u001b[0;34m\u001b[0m\u001b[0m\n",
      "\u001b[0;32m~/.pyenv/versions/lewagon/lib/python3.8/site-packages/tensorflow/python/keras/engine/training.py\u001b[0m in \u001b[0;36mfit\u001b[0;34m(self, x, y, batch_size, epochs, verbose, callbacks, validation_split, validation_data, shuffle, class_weight, sample_weight, initial_epoch, steps_per_epoch, validation_steps, validation_batch_size, validation_freq, max_queue_size, workers, use_multiprocessing)\u001b[0m\n\u001b[1;32m   1096\u001b[0m                 batch_size=batch_size):\n\u001b[1;32m   1097\u001b[0m               \u001b[0mcallbacks\u001b[0m\u001b[0;34m.\u001b[0m\u001b[0mon_train_batch_begin\u001b[0m\u001b[0;34m(\u001b[0m\u001b[0mstep\u001b[0m\u001b[0;34m)\u001b[0m\u001b[0;34m\u001b[0m\u001b[0;34m\u001b[0m\u001b[0m\n\u001b[0;32m-> 1098\u001b[0;31m               \u001b[0mtmp_logs\u001b[0m \u001b[0;34m=\u001b[0m \u001b[0mtrain_function\u001b[0m\u001b[0;34m(\u001b[0m\u001b[0miterator\u001b[0m\u001b[0;34m)\u001b[0m\u001b[0;34m\u001b[0m\u001b[0;34m\u001b[0m\u001b[0m\n\u001b[0m\u001b[1;32m   1099\u001b[0m               \u001b[0;32mif\u001b[0m \u001b[0mdata_handler\u001b[0m\u001b[0;34m.\u001b[0m\u001b[0mshould_sync\u001b[0m\u001b[0;34m:\u001b[0m\u001b[0;34m\u001b[0m\u001b[0;34m\u001b[0m\u001b[0m\n\u001b[1;32m   1100\u001b[0m                 \u001b[0mcontext\u001b[0m\u001b[0;34m.\u001b[0m\u001b[0masync_wait\u001b[0m\u001b[0;34m(\u001b[0m\u001b[0;34m)\u001b[0m\u001b[0;34m\u001b[0m\u001b[0;34m\u001b[0m\u001b[0m\n",
      "\u001b[0;32m~/.pyenv/versions/lewagon/lib/python3.8/site-packages/tensorflow/python/eager/def_function.py\u001b[0m in \u001b[0;36m__call__\u001b[0;34m(self, *args, **kwds)\u001b[0m\n\u001b[1;32m    778\u001b[0m       \u001b[0;32melse\u001b[0m\u001b[0;34m:\u001b[0m\u001b[0;34m\u001b[0m\u001b[0;34m\u001b[0m\u001b[0m\n\u001b[1;32m    779\u001b[0m         \u001b[0mcompiler\u001b[0m \u001b[0;34m=\u001b[0m \u001b[0;34m\"nonXla\"\u001b[0m\u001b[0;34m\u001b[0m\u001b[0;34m\u001b[0m\u001b[0m\n\u001b[0;32m--> 780\u001b[0;31m         \u001b[0mresult\u001b[0m \u001b[0;34m=\u001b[0m \u001b[0mself\u001b[0m\u001b[0;34m.\u001b[0m\u001b[0m_call\u001b[0m\u001b[0;34m(\u001b[0m\u001b[0;34m*\u001b[0m\u001b[0margs\u001b[0m\u001b[0;34m,\u001b[0m \u001b[0;34m**\u001b[0m\u001b[0mkwds\u001b[0m\u001b[0;34m)\u001b[0m\u001b[0;34m\u001b[0m\u001b[0;34m\u001b[0m\u001b[0m\n\u001b[0m\u001b[1;32m    781\u001b[0m \u001b[0;34m\u001b[0m\u001b[0m\n\u001b[1;32m    782\u001b[0m       \u001b[0mnew_tracing_count\u001b[0m \u001b[0;34m=\u001b[0m \u001b[0mself\u001b[0m\u001b[0;34m.\u001b[0m\u001b[0m_get_tracing_count\u001b[0m\u001b[0;34m(\u001b[0m\u001b[0;34m)\u001b[0m\u001b[0;34m\u001b[0m\u001b[0;34m\u001b[0m\u001b[0m\n",
      "\u001b[0;32m~/.pyenv/versions/lewagon/lib/python3.8/site-packages/tensorflow/python/eager/def_function.py\u001b[0m in \u001b[0;36m_call\u001b[0;34m(self, *args, **kwds)\u001b[0m\n\u001b[1;32m    805\u001b[0m       \u001b[0;31m# In this case we have created variables on the first call, so we run the\u001b[0m\u001b[0;34m\u001b[0m\u001b[0;34m\u001b[0m\u001b[0;34m\u001b[0m\u001b[0m\n\u001b[1;32m    806\u001b[0m       \u001b[0;31m# defunned version which is guaranteed to never create variables.\u001b[0m\u001b[0;34m\u001b[0m\u001b[0;34m\u001b[0m\u001b[0;34m\u001b[0m\u001b[0m\n\u001b[0;32m--> 807\u001b[0;31m       \u001b[0;32mreturn\u001b[0m \u001b[0mself\u001b[0m\u001b[0;34m.\u001b[0m\u001b[0m_stateless_fn\u001b[0m\u001b[0;34m(\u001b[0m\u001b[0;34m*\u001b[0m\u001b[0margs\u001b[0m\u001b[0;34m,\u001b[0m \u001b[0;34m**\u001b[0m\u001b[0mkwds\u001b[0m\u001b[0;34m)\u001b[0m  \u001b[0;31m# pylint: disable=not-callable\u001b[0m\u001b[0;34m\u001b[0m\u001b[0;34m\u001b[0m\u001b[0m\n\u001b[0m\u001b[1;32m    808\u001b[0m     \u001b[0;32melif\u001b[0m \u001b[0mself\u001b[0m\u001b[0;34m.\u001b[0m\u001b[0m_stateful_fn\u001b[0m \u001b[0;32mis\u001b[0m \u001b[0;32mnot\u001b[0m \u001b[0;32mNone\u001b[0m\u001b[0;34m:\u001b[0m\u001b[0;34m\u001b[0m\u001b[0;34m\u001b[0m\u001b[0m\n\u001b[1;32m    809\u001b[0m       \u001b[0;31m# Release the lock early so that multiple threads can perform the call\u001b[0m\u001b[0;34m\u001b[0m\u001b[0;34m\u001b[0m\u001b[0;34m\u001b[0m\u001b[0m\n",
      "\u001b[0;32m~/.pyenv/versions/lewagon/lib/python3.8/site-packages/tensorflow/python/eager/function.py\u001b[0m in \u001b[0;36m__call__\u001b[0;34m(self, *args, **kwargs)\u001b[0m\n\u001b[1;32m   2827\u001b[0m     \u001b[0;32mwith\u001b[0m \u001b[0mself\u001b[0m\u001b[0;34m.\u001b[0m\u001b[0m_lock\u001b[0m\u001b[0;34m:\u001b[0m\u001b[0;34m\u001b[0m\u001b[0;34m\u001b[0m\u001b[0m\n\u001b[1;32m   2828\u001b[0m       \u001b[0mgraph_function\u001b[0m\u001b[0;34m,\u001b[0m \u001b[0margs\u001b[0m\u001b[0;34m,\u001b[0m \u001b[0mkwargs\u001b[0m \u001b[0;34m=\u001b[0m \u001b[0mself\u001b[0m\u001b[0;34m.\u001b[0m\u001b[0m_maybe_define_function\u001b[0m\u001b[0;34m(\u001b[0m\u001b[0margs\u001b[0m\u001b[0;34m,\u001b[0m \u001b[0mkwargs\u001b[0m\u001b[0;34m)\u001b[0m\u001b[0;34m\u001b[0m\u001b[0;34m\u001b[0m\u001b[0m\n\u001b[0;32m-> 2829\u001b[0;31m     \u001b[0;32mreturn\u001b[0m \u001b[0mgraph_function\u001b[0m\u001b[0;34m.\u001b[0m\u001b[0m_filtered_call\u001b[0m\u001b[0;34m(\u001b[0m\u001b[0margs\u001b[0m\u001b[0;34m,\u001b[0m \u001b[0mkwargs\u001b[0m\u001b[0;34m)\u001b[0m  \u001b[0;31m# pylint: disable=protected-access\u001b[0m\u001b[0;34m\u001b[0m\u001b[0;34m\u001b[0m\u001b[0m\n\u001b[0m\u001b[1;32m   2830\u001b[0m \u001b[0;34m\u001b[0m\u001b[0m\n\u001b[1;32m   2831\u001b[0m   \u001b[0;34m@\u001b[0m\u001b[0mproperty\u001b[0m\u001b[0;34m\u001b[0m\u001b[0;34m\u001b[0m\u001b[0m\n",
      "\u001b[0;32m~/.pyenv/versions/lewagon/lib/python3.8/site-packages/tensorflow/python/eager/function.py\u001b[0m in \u001b[0;36m_filtered_call\u001b[0;34m(self, args, kwargs, cancellation_manager)\u001b[0m\n\u001b[1;32m   1841\u001b[0m       \u001b[0;31m`\u001b[0m\u001b[0margs\u001b[0m\u001b[0;31m`\u001b[0m \u001b[0;32mand\u001b[0m\u001b[0;31m \u001b[0m\u001b[0;31m`\u001b[0m\u001b[0mkwargs\u001b[0m\u001b[0;31m`\u001b[0m\u001b[0;34m.\u001b[0m\u001b[0;34m\u001b[0m\u001b[0;34m\u001b[0m\u001b[0m\n\u001b[1;32m   1842\u001b[0m     \"\"\"\n\u001b[0;32m-> 1843\u001b[0;31m     return self._call_flat(\n\u001b[0m\u001b[1;32m   1844\u001b[0m         [t for t in nest.flatten((args, kwargs), expand_composites=True)\n\u001b[1;32m   1845\u001b[0m          if isinstance(t, (ops.Tensor,\n",
      "\u001b[0;32m~/.pyenv/versions/lewagon/lib/python3.8/site-packages/tensorflow/python/eager/function.py\u001b[0m in \u001b[0;36m_call_flat\u001b[0;34m(self, args, captured_inputs, cancellation_manager)\u001b[0m\n\u001b[1;32m   1921\u001b[0m         and executing_eagerly):\n\u001b[1;32m   1922\u001b[0m       \u001b[0;31m# No tape is watching; skip to running the function.\u001b[0m\u001b[0;34m\u001b[0m\u001b[0;34m\u001b[0m\u001b[0;34m\u001b[0m\u001b[0m\n\u001b[0;32m-> 1923\u001b[0;31m       return self._build_call_outputs(self._inference_function.call(\n\u001b[0m\u001b[1;32m   1924\u001b[0m           ctx, args, cancellation_manager=cancellation_manager))\n\u001b[1;32m   1925\u001b[0m     forward_backward = self._select_forward_and_backward_functions(\n",
      "\u001b[0;32m~/.pyenv/versions/lewagon/lib/python3.8/site-packages/tensorflow/python/eager/function.py\u001b[0m in \u001b[0;36mcall\u001b[0;34m(self, ctx, args, cancellation_manager)\u001b[0m\n\u001b[1;32m    543\u001b[0m       \u001b[0;32mwith\u001b[0m \u001b[0m_InterpolateFunctionError\u001b[0m\u001b[0;34m(\u001b[0m\u001b[0mself\u001b[0m\u001b[0;34m)\u001b[0m\u001b[0;34m:\u001b[0m\u001b[0;34m\u001b[0m\u001b[0;34m\u001b[0m\u001b[0m\n\u001b[1;32m    544\u001b[0m         \u001b[0;32mif\u001b[0m \u001b[0mcancellation_manager\u001b[0m \u001b[0;32mis\u001b[0m \u001b[0;32mNone\u001b[0m\u001b[0;34m:\u001b[0m\u001b[0;34m\u001b[0m\u001b[0;34m\u001b[0m\u001b[0m\n\u001b[0;32m--> 545\u001b[0;31m           outputs = execute.execute(\n\u001b[0m\u001b[1;32m    546\u001b[0m               \u001b[0mstr\u001b[0m\u001b[0;34m(\u001b[0m\u001b[0mself\u001b[0m\u001b[0;34m.\u001b[0m\u001b[0msignature\u001b[0m\u001b[0;34m.\u001b[0m\u001b[0mname\u001b[0m\u001b[0;34m)\u001b[0m\u001b[0;34m,\u001b[0m\u001b[0;34m\u001b[0m\u001b[0;34m\u001b[0m\u001b[0m\n\u001b[1;32m    547\u001b[0m               \u001b[0mnum_outputs\u001b[0m\u001b[0;34m=\u001b[0m\u001b[0mself\u001b[0m\u001b[0;34m.\u001b[0m\u001b[0m_num_outputs\u001b[0m\u001b[0;34m,\u001b[0m\u001b[0;34m\u001b[0m\u001b[0;34m\u001b[0m\u001b[0m\n",
      "\u001b[0;32m~/.pyenv/versions/lewagon/lib/python3.8/site-packages/tensorflow/python/eager/execute.py\u001b[0m in \u001b[0;36mquick_execute\u001b[0;34m(op_name, num_outputs, inputs, attrs, ctx, name)\u001b[0m\n\u001b[1;32m     57\u001b[0m   \u001b[0;32mtry\u001b[0m\u001b[0;34m:\u001b[0m\u001b[0;34m\u001b[0m\u001b[0;34m\u001b[0m\u001b[0m\n\u001b[1;32m     58\u001b[0m     \u001b[0mctx\u001b[0m\u001b[0;34m.\u001b[0m\u001b[0mensure_initialized\u001b[0m\u001b[0;34m(\u001b[0m\u001b[0;34m)\u001b[0m\u001b[0;34m\u001b[0m\u001b[0;34m\u001b[0m\u001b[0m\n\u001b[0;32m---> 59\u001b[0;31m     tensors = pywrap_tfe.TFE_Py_Execute(ctx._handle, device_name, op_name,\n\u001b[0m\u001b[1;32m     60\u001b[0m                                         inputs, attrs, num_outputs)\n\u001b[1;32m     61\u001b[0m   \u001b[0;32mexcept\u001b[0m \u001b[0mcore\u001b[0m\u001b[0;34m.\u001b[0m\u001b[0m_NotOkStatusException\u001b[0m \u001b[0;32mas\u001b[0m \u001b[0me\u001b[0m\u001b[0;34m:\u001b[0m\u001b[0;34m\u001b[0m\u001b[0;34m\u001b[0m\u001b[0m\n",
      "\u001b[0;31mKeyboardInterrupt\u001b[0m: "
     ]
    }
   ],
   "source": [
    "# The model\n",
    "#train_flow = datagen.flow(X_tr, y_tr, batch_size=32)\n",
    "model = initialize_model4()\n",
    "model = compile_model(model)\n",
    "from tensorflow.keras.callbacks import EarlyStopping\n",
    "# The early stopping criterion\n",
    "es = EarlyStopping(patience=20, restore_best_weights = True, verbose = 1)\n",
    "\n",
    "# The fit\n",
    "# history_2 = model.fit(train_flow, \n",
    "#                         epochs=1000, \n",
    "#                         callbacks=[es], \n",
    "#                         validation_data=(X_val, y_val), batch_size = 32)\n",
    "history_2 = model.fit(X_tr,y_tr, \n",
    "                        epochs=1000, \n",
    "                        callbacks=[es], \n",
    "                        validation_data=(X_val, y_val), batch_size = 32)\n"
   ]
  },
  {
   "cell_type": "code",
   "execution_count": 29,
   "metadata": {},
   "outputs": [
    {
     "name": "stdout",
     "output_type": "stream",
     "text": [
      "(10778, 65, 65, 7)\n",
      "(10753, 65, 65, 7)\n"
     ]
    }
   ],
   "source": [
    "X_test = val_images[\"image\"].numpy()\n",
    "print(X_test.shape)\n",
    "y_test = val_labels.numpy()\n",
    "indices = np.where([i[i.std() >= 10].all() for i in X_test])\n",
    "X_test, y_test = X_test[indices], y_test[indices]\n",
    "print(X_test.shape)"
   ]
  },
  {
   "cell_type": "code",
   "execution_count": null,
   "metadata": {},
   "outputs": [],
   "source": [
    "\n",
    "plot_history(history_2)\n",
    "plt.show()\n",
    "res = model.evaluate(X_test, y_test, verbose=1)\n",
    "\n",
    "print(f'The accuracy is of {res[1]*100:.3f}%')"
   ]
  },
  {
   "cell_type": "code",
   "execution_count": null,
   "metadata": {},
   "outputs": [],
   "source": [
    "X_tr.shape"
   ]
  },
  {
   "cell_type": "code",
   "execution_count": null,
   "metadata": {},
   "outputs": [],
   "source": [
    "X_trrgb = X_tr[:,:,:,2:5]\n",
    "X_trrgb.shape"
   ]
  },
  {
   "cell_type": "code",
   "execution_count": 42,
   "metadata": {},
   "outputs": [],
   "source": [
    "from tensorflow.keras.applications.vgg16 import VGG16\n",
    "\n",
    "def load_model():\n",
    "    model = VGG16(weights=\"imagenet\", include_top=False, input_shape=X_trrgb[0].shape)\n",
    "    return model"
   ]
  },
  {
   "cell_type": "code",
   "execution_count": null,
   "metadata": {},
   "outputs": [],
   "source": [
    "model2 = load_model()\n",
    "model2.summary()"
   ]
  },
  {
   "cell_type": "code",
   "execution_count": 38,
   "metadata": {},
   "outputs": [
    {
     "name": "stdout",
     "output_type": "stream",
     "text": [
      "Model: \"sequential\"\n",
      "_________________________________________________________________\n",
      "Layer (type)                 Output Shape              Param #   \n",
      "=================================================================\n",
      "conv2d (Conv2D)              (None, 64, 64, 32)        928       \n",
      "_________________________________________________________________\n",
      "max_pooling2d (MaxPooling2D) (None, 32, 32, 32)        0         \n",
      "_________________________________________________________________\n",
      "conv2d_1 (Conv2D)            (None, 31, 31, 64)        8256      \n",
      "_________________________________________________________________\n",
      "conv2d_2 (Conv2D)            (None, 30, 30, 64)        16448     \n",
      "_________________________________________________________________\n",
      "max_pooling2d_1 (MaxPooling2 (None, 15, 15, 64)        0         \n",
      "_________________________________________________________________\n",
      "dropout (Dropout)            (None, 15, 15, 64)        0         \n",
      "_________________________________________________________________\n",
      "conv2d_3 (Conv2D)            (None, 14, 14, 128)       32896     \n",
      "_________________________________________________________________\n",
      "conv2d_4 (Conv2D)            (None, 13, 13, 128)       65664     \n",
      "_________________________________________________________________\n",
      "max_pooling2d_2 (MaxPooling2 (None, 6, 6, 128)         0         \n",
      "_________________________________________________________________\n",
      "dropout_1 (Dropout)          (None, 6, 6, 128)         0         \n",
      "_________________________________________________________________\n",
      "flatten (Flatten)            (None, 4608)              0         \n",
      "_________________________________________________________________\n",
      "dense (Dense)                (None, 64)                294976    \n",
      "_________________________________________________________________\n",
      "dense_1 (Dense)              (None, 64)                4160      \n",
      "_________________________________________________________________\n",
      "dense_2 (Dense)              (None, 4)                 260       \n",
      "=================================================================\n",
      "Total params: 423,588\n",
      "Trainable params: 0\n",
      "Non-trainable params: 423,588\n",
      "_________________________________________________________________\n"
     ]
    }
   ],
   "source": [
    "def set_nontrainable_layers(model):\n",
    "    # Set the first layers to be untrainable\n",
    "    model.trainable = False\n",
    "    \n",
    "    return model\n",
    "\n",
    "model2 = set_nontrainable_layers(model)\n",
    "\n",
    "model2.summary()"
   ]
  },
  {
   "cell_type": "code",
   "execution_count": 39,
   "metadata": {},
   "outputs": [],
   "source": [
    "from tensorflow.keras import layers, models\n",
    "\n",
    "def add_last_layers(model):\n",
    "    base_model = set_nontrainable_layers(model)\n",
    "    flatten_layer = layers.Flatten()\n",
    "    dense_layer = layers.Dense(500, activation='relu')\n",
    "    prediction_layer = layers.Dense(4, activation='softmax')\n",
    "    \n",
    "    \n",
    "    model = models.Sequential([\n",
    "        model,\n",
    "        flatten_layer,\n",
    "        dense_layer,\n",
    "        prediction_layer\n",
    "    ])\n",
    "    \n",
    "    return model"
   ]
  },
  {
   "cell_type": "code",
   "execution_count": 40,
   "metadata": {},
   "outputs": [],
   "source": [
    "model2 = add_last_layers(model2)\n"
   ]
  },
  {
   "cell_type": "code",
   "execution_count": 41,
   "metadata": {},
   "outputs": [],
   "source": [
    "def compile_model(model):\n",
    "    \n",
    "    opt = optimizers.Adam(learning_rate=1e-4)\n",
    "    model.compile(loss='categorical_crossentropy',\n",
    "                  optimizer=opt,\n",
    "                  metrics=['accuracy'])\n",
    "    \n",
    "    return model"
   ]
  },
  {
   "cell_type": "code",
   "execution_count": 43,
   "metadata": {},
   "outputs": [],
   "source": [
    "def build_model():\n",
    "    \n",
    "    model = load_model()\n",
    "    model = add_last_layers(model)\n",
    "    model = compile_model(model)\n",
    "    \n",
    "    return model\n",
    "\n",
    "model2 = build_model()"
   ]
  },
  {
   "cell_type": "code",
   "execution_count": 31,
   "metadata": {},
   "outputs": [],
   "source": [
    "from tensorflow.keras.applications.vgg16 import preprocess_input\n",
    "X_trrgb = X_tr[:,:,:,2:5]\n",
    "X_valrgb = X_val[:,:,:,2:5]\n",
    "X_testrgb = X_test[:,:,:,2:5]\n",
    "X_train = preprocess_input(X_trrgb) \n",
    "X_val = preprocess_input(X_valrgb)\n",
    "X_test = preprocess_input(X_testrgb)"
   ]
  },
  {
   "cell_type": "code",
   "execution_count": null,
   "metadata": {},
   "outputs": [],
   "source": [
    "from tensorflow.keras.callbacks import EarlyStopping\n",
    "\n",
    "es = EarlyStopping(monitor='val_accuracy', mode='max', patience=20, verbose=1, restore_best_weights=True)\n",
    "\n",
    "history = model2.fit(X_train, y_tr, \n",
    "                    validation_data=(X_val, y_val), \n",
    "                    epochs=1000, \n",
    "                    batch_size=32, \n",
    "                    callbacks=[es],verbose = 1)"
   ]
  },
  {
   "cell_type": "code",
   "execution_count": null,
   "metadata": {},
   "outputs": [],
   "source": [
    "plot_history(history)\n",
    "plt.show()\n"
   ]
  },
  {
   "cell_type": "code",
   "execution_count": null,
   "metadata": {},
   "outputs": [],
   "source": [
    "res = model2.evaluate(X_test, y_test, verbose=1)\n",
    "\n",
    "print(f'The accuracy is of {res[1]*100:.3f}%')"
   ]
  },
  {
   "cell_type": "code",
   "execution_count": null,
   "metadata": {},
   "outputs": [
    {
     "name": "stdout",
     "output_type": "stream",
     "text": [
      "WARNING:tensorflow:From <ipython-input-44-98e1cbd73a71>:23: Model.fit_generator (from tensorflow.python.keras.engine.training) is deprecated and will be removed in a future version.\n",
      "Instructions for updating:\n",
      "Please use Model.fit, which supports generators.\n",
      "Epoch 1/1000\n",
      "1872/1872 [==============================] - 560s 299ms/step - loss: 2.4477 - accuracy: 0.5214 - val_loss: 1.7348 - val_accuracy: 0.5797\n",
      "Epoch 2/1000\n",
      "1872/1872 [==============================] - 577s 308ms/step - loss: 1.4332 - accuracy: 0.5588 - val_loss: 1.2388 - val_accuracy: 0.5941\n",
      "Epoch 3/1000\n",
      "1872/1872 [==============================] - 568s 304ms/step - loss: 1.1204 - accuracy: 0.5917 - val_loss: 1.0783 - val_accuracy: 0.5955\n",
      "Epoch 4/1000\n",
      "1872/1872 [==============================] - 585s 313ms/step - loss: 1.0101 - accuracy: 0.6150 - val_loss: 0.9883 - val_accuracy: 0.6194\n",
      "Epoch 5/1000\n",
      "1872/1872 [==============================] - 611s 327ms/step - loss: 0.9654 - accuracy: 0.6307 - val_loss: 0.9687 - val_accuracy: 0.6361\n",
      "Epoch 6/1000\n",
      "1872/1872 [==============================] - 671s 358ms/step - loss: 0.9484 - accuracy: 0.6356 - val_loss: 0.9517 - val_accuracy: 0.6391\n",
      "Epoch 7/1000\n",
      "1872/1872 [==============================] - 652s 348ms/step - loss: 0.9319 - accuracy: 0.6413 - val_loss: 0.9395 - val_accuracy: 0.6389\n",
      "Epoch 8/1000\n",
      "1872/1872 [==============================] - 664s 354ms/step - loss: 0.9211 - accuracy: 0.6444 - val_loss: 0.9282 - val_accuracy: 0.6469\n",
      "Epoch 9/1000\n",
      "1872/1872 [==============================] - 679s 363ms/step - loss: 0.9139 - accuracy: 0.6473 - val_loss: 0.9216 - val_accuracy: 0.6446\n",
      "Epoch 10/1000\n",
      "1872/1872 [==============================] - 640s 342ms/step - loss: 0.9025 - accuracy: 0.6524 - val_loss: 0.9139 - val_accuracy: 0.6517\n",
      "Epoch 11/1000\n",
      "1872/1872 [==============================] - 661s 353ms/step - loss: 0.8994 - accuracy: 0.6556 - val_loss: 0.9201 - val_accuracy: 0.6476\n",
      "Epoch 12/1000\n",
      "1872/1872 [==============================] - 652s 348ms/step - loss: 0.8902 - accuracy: 0.6562 - val_loss: 0.8980 - val_accuracy: 0.6578\n",
      "Epoch 13/1000\n",
      "1872/1872 [==============================] - 755s 403ms/step - loss: 0.8852 - accuracy: 0.6582 - val_loss: 0.9012 - val_accuracy: 0.6548\n",
      "Epoch 14/1000\n",
      "1872/1872 [==============================] - 688s 367ms/step - loss: 0.8784 - accuracy: 0.6627 - val_loss: 0.8983 - val_accuracy: 0.6558\n",
      "Epoch 15/1000\n",
      "1872/1872 [==============================] - 659s 352ms/step - loss: 0.8678 - accuracy: 0.6631 - val_loss: 0.8971 - val_accuracy: 0.6579\n",
      "Epoch 16/1000\n",
      "1872/1872 [==============================] - 699s 373ms/step - loss: 0.8686 - accuracy: 0.6644 - val_loss: 0.8962 - val_accuracy: 0.6595\n",
      "Epoch 17/1000\n",
      "1872/1872 [==============================] - 681s 364ms/step - loss: 0.8647 - accuracy: 0.6648 - val_loss: 0.8933 - val_accuracy: 0.6565\n",
      "Epoch 18/1000\n",
      "1872/1872 [==============================] - 657s 351ms/step - loss: 0.8642 - accuracy: 0.6650 - val_loss: 0.8885 - val_accuracy: 0.6621\n",
      "Epoch 19/1000\n",
      "1872/1872 [==============================] - 651s 348ms/step - loss: 0.8585 - accuracy: 0.6671 - val_loss: 0.8841 - val_accuracy: 0.6611\n",
      "Epoch 20/1000\n",
      "1872/1872 [==============================] - 686s 366ms/step - loss: 0.8527 - accuracy: 0.6720 - val_loss: 0.8713 - val_accuracy: 0.6653\n",
      "Epoch 21/1000\n",
      "1872/1872 [==============================] - 678s 362ms/step - loss: 0.8498 - accuracy: 0.6705 - val_loss: 0.8746 - val_accuracy: 0.6629\n",
      "Epoch 22/1000\n",
      "1872/1872 [==============================] - 693s 370ms/step - loss: 0.8501 - accuracy: 0.6743 - val_loss: 0.8783 - val_accuracy: 0.6668\n",
      "Epoch 23/1000\n",
      "1872/1872 [==============================] - 731s 390ms/step - loss: 0.8517 - accuracy: 0.6706 - val_loss: 0.8705 - val_accuracy: 0.6683\n",
      "Epoch 24/1000\n",
      "1872/1872 [==============================] - 740s 395ms/step - loss: 0.8442 - accuracy: 0.6739 - val_loss: 0.8752 - val_accuracy: 0.6683\n",
      "Epoch 25/1000\n",
      "1872/1872 [==============================] - 686s 366ms/step - loss: 0.8379 - accuracy: 0.6767 - val_loss: 0.8730 - val_accuracy: 0.6678\n",
      "Epoch 26/1000\n",
      "1872/1872 [==============================] - 764s 408ms/step - loss: 0.8397 - accuracy: 0.6741 - val_loss: 0.8625 - val_accuracy: 0.6692\n",
      "Epoch 27/1000\n",
      "1872/1872 [==============================] - 793s 423ms/step - loss: 0.8352 - accuracy: 0.6737 - val_loss: 0.8760 - val_accuracy: 0.6686\n",
      "Epoch 28/1000\n",
      "1872/1872 [==============================] - 724s 387ms/step - loss: 0.8333 - accuracy: 0.6804 - val_loss: 0.8661 - val_accuracy: 0.6711\n",
      "Epoch 29/1000\n",
      "1872/1872 [==============================] - 802s 428ms/step - loss: 0.8281 - accuracy: 0.6804 - val_loss: 0.8492 - val_accuracy: 0.6692\n",
      "Epoch 30/1000\n",
      "1872/1872 [==============================] - 907s 485ms/step - loss: 0.8302 - accuracy: 0.6805 - val_loss: 0.8663 - val_accuracy: 0.6711\n",
      "Epoch 31/1000\n",
      "1872/1872 [==============================] - 852s 455ms/step - loss: 0.8270 - accuracy: 0.6806 - val_loss: 0.8613 - val_accuracy: 0.6693\n",
      "Epoch 32/1000\n",
      "1872/1872 [==============================] - 748s 400ms/step - loss: 0.8240 - accuracy: 0.6822 - val_loss: 0.8599 - val_accuracy: 0.6739\n",
      "Epoch 33/1000\n",
      "1872/1872 [==============================] - 699s 373ms/step - loss: 0.8205 - accuracy: 0.6835 - val_loss: 0.8619 - val_accuracy: 0.6748\n",
      "Epoch 34/1000\n",
      "1872/1872 [==============================] - 728s 389ms/step - loss: 0.8203 - accuracy: 0.6834 - val_loss: 0.8578 - val_accuracy: 0.6774\n",
      "Epoch 35/1000\n",
      "1872/1872 [==============================] - 719s 384ms/step - loss: 0.8197 - accuracy: 0.6817 - val_loss: 0.8655 - val_accuracy: 0.6688\n",
      "Epoch 36/1000\n",
      "1872/1872 [==============================] - 759s 405ms/step - loss: 0.8203 - accuracy: 0.6850 - val_loss: 0.8552 - val_accuracy: 0.6799\n",
      "Epoch 37/1000\n",
      "1872/1872 [==============================] - 742s 396ms/step - loss: 0.8152 - accuracy: 0.6860 - val_loss: 0.8555 - val_accuracy: 0.6762\n",
      "Epoch 38/1000\n",
      "1872/1872 [==============================] - 657s 351ms/step - loss: 0.8147 - accuracy: 0.6852 - val_loss: 0.8453 - val_accuracy: 0.6765\n",
      "Epoch 39/1000\n",
      "1872/1872 [==============================] - 635s 339ms/step - loss: 0.8136 - accuracy: 0.6863 - val_loss: 0.8479 - val_accuracy: 0.6780\n",
      "Epoch 40/1000\n",
      "1872/1872 [==============================] - 637s 340ms/step - loss: 0.8114 - accuracy: 0.6875 - val_loss: 0.8506 - val_accuracy: 0.6789\n",
      "Epoch 41/1000\n",
      "1872/1872 [==============================] - 632s 338ms/step - loss: 0.8123 - accuracy: 0.6892 - val_loss: 0.8427 - val_accuracy: 0.6811\n",
      "Epoch 42/1000\n",
      "1872/1872 [==============================] - 637s 340ms/step - loss: 0.8082 - accuracy: 0.6880 - val_loss: 0.8471 - val_accuracy: 0.6774\n",
      "Epoch 43/1000\n",
      "1872/1872 [==============================] - 643s 344ms/step - loss: 0.8066 - accuracy: 0.6904 - val_loss: 0.8489 - val_accuracy: 0.6752\n",
      "Epoch 44/1000\n",
      "1872/1872 [==============================] - 675s 360ms/step - loss: 0.8054 - accuracy: 0.6874 - val_loss: 0.8404 - val_accuracy: 0.6772\n",
      "Epoch 45/1000\n",
      "1872/1872 [==============================] - 607s 325ms/step - loss: 0.8063 - accuracy: 0.6865 - val_loss: 0.8532 - val_accuracy: 0.6746\n",
      "Epoch 46/1000\n",
      "1872/1872 [==============================] - 566s 302ms/step - loss: 0.8061 - accuracy: 0.6871 - val_loss: 0.8514 - val_accuracy: 0.6780\n",
      "Epoch 47/1000\n",
      "1872/1872 [==============================] - 578s 309ms/step - loss: 0.7986 - accuracy: 0.6906 - val_loss: 0.8381 - val_accuracy: 0.6818\n",
      "Epoch 48/1000\n",
      "1872/1872 [==============================] - 583s 312ms/step - loss: 0.8024 - accuracy: 0.6898 - val_loss: 0.8490 - val_accuracy: 0.6824\n",
      "Epoch 49/1000\n",
      "1872/1872 [==============================] - 592s 316ms/step - loss: 0.7987 - accuracy: 0.6918 - val_loss: 0.8309 - val_accuracy: 0.6830\n",
      "Epoch 50/1000\n",
      "1872/1872 [==============================] - 668s 357ms/step - loss: 0.7979 - accuracy: 0.6933 - val_loss: 0.8421 - val_accuracy: 0.6812\n",
      "Epoch 51/1000\n",
      "1872/1872 [==============================] - 658s 351ms/step - loss: 0.7972 - accuracy: 0.6908 - val_loss: 0.8420 - val_accuracy: 0.6811\n",
      "Epoch 52/1000\n",
      "1872/1872 [==============================] - 686s 366ms/step - loss: 0.7975 - accuracy: 0.6917 - val_loss: 0.8482 - val_accuracy: 0.6789\n",
      "Epoch 53/1000\n",
      "1872/1872 [==============================] - 685s 366ms/step - loss: 0.7998 - accuracy: 0.6922 - val_loss: 0.8395 - val_accuracy: 0.6809\n",
      "Epoch 54/1000\n",
      "1872/1872 [==============================] - 683s 365ms/step - loss: 0.7909 - accuracy: 0.6948 - val_loss: 0.8450 - val_accuracy: 0.6828\n",
      "Epoch 55/1000\n",
      "1872/1872 [==============================] - 683s 365ms/step - loss: 0.7943 - accuracy: 0.6920 - val_loss: 0.8264 - val_accuracy: 0.6848\n",
      "Epoch 56/1000\n",
      "1872/1872 [==============================] - 669s 357ms/step - loss: 0.7927 - accuracy: 0.6944 - val_loss: 0.8349 - val_accuracy: 0.6865\n",
      "Epoch 57/1000\n",
      "1872/1872 [==============================] - 746s 398ms/step - loss: 0.7888 - accuracy: 0.6958 - val_loss: 0.8407 - val_accuracy: 0.6833\n",
      "Epoch 58/1000\n",
      "1872/1872 [==============================] - 787s 421ms/step - loss: 0.7853 - accuracy: 0.6962 - val_loss: 0.8376 - val_accuracy: 0.6879\n",
      "Epoch 59/1000\n",
      "1872/1872 [==============================] - 777s 415ms/step - loss: 0.7922 - accuracy: 0.6935 - val_loss: 0.8285 - val_accuracy: 0.6877\n",
      "Epoch 60/1000\n",
      "1872/1872 [==============================] - 759s 406ms/step - loss: 0.7931 - accuracy: 0.6945 - val_loss: 0.8373 - val_accuracy: 0.6857\n",
      "Epoch 61/1000\n",
      "1872/1872 [==============================] - 700s 374ms/step - loss: 0.7864 - accuracy: 0.6969 - val_loss: 0.8354 - val_accuracy: 0.6867\n",
      "Epoch 62/1000\n",
      "1872/1872 [==============================] - 762s 407ms/step - loss: 0.7922 - accuracy: 0.6925 - val_loss: 0.8389 - val_accuracy: 0.6815\n",
      "Epoch 63/1000\n",
      "1872/1872 [==============================] - 777s 415ms/step - loss: 0.7869 - accuracy: 0.6956 - val_loss: 0.8417 - val_accuracy: 0.6784\n",
      "Epoch 64/1000\n",
      "1872/1872 [==============================] - 760s 406ms/step - loss: 0.7794 - accuracy: 0.6983 - val_loss: 0.8458 - val_accuracy: 0.6837\n",
      "Epoch 65/1000\n",
      " 111/1872 [>.............................] - ETA: 8:58 - loss: 0.7337 - accuracy: 0.7241"
     ]
    }
   ],
   "source": [
    "from keras.preprocessing.image import ImageDataGenerator\n",
    "\n",
    "datagen = ImageDataGenerator(\n",
    "    featurewise_center=False,\n",
    "    featurewise_std_normalization=False,\n",
    "    rotation_range=20,\n",
    "    width_shift_range=0.2,\n",
    "    height_shift_range=0.2,\n",
    "    horizontal_flip=True,\n",
    "    brightness_range=(0.5, 1.),\n",
    "    zoom_range=(0.5, 1.2))\n",
    "\n",
    "\n",
    "# compute quantities required for featurewise normalization\n",
    "# (std, mean, and principal components if ZCA whitening is applied)\n",
    "datagen.fit(X_trrgb)\n",
    "\n",
    "model_data_aug = build_model()\n",
    "\n",
    "train_flow = datagen.flow(X_trrgb, y_tr, batch_size=16)\n",
    "val_flow = datagen.flow(X_valrgb, y_val, batch_size=16)\n",
    "es = EarlyStopping(monitor='val_accuracy', mode='max', patience=20, verbose=1, restore_best_weights=True)\n",
    "history_data_aug = model_data_aug.fit_generator(train_flow, epochs=1000, validation_data=val_flow, callbacks=[es])"
   ]
  },
  {
   "cell_type": "code",
   "execution_count": null,
   "metadata": {},
   "outputs": [],
   "source": [
    "res = model_data_aug.evaluate(X_testrgb, y_test, verbose=1)\n",
    "\n",
    "print(f'The accuracy is of {res[1]*100:.3f}%')"
   ]
  },
  {
   "cell_type": "code",
   "execution_count": null,
   "metadata": {},
   "outputs": [],
   "source": [
    "plot_history(history_data_aug)"
   ]
  },
  {
   "cell_type": "code",
   "execution_count": null,
   "metadata": {},
   "outputs": [],
   "source": [
    "# serialize model to JSON\n",
    "model_json = model_data_aug.to_json()\n",
    "with open(\"model.json\", \"w\") as json_file:\n",
    "    json_file.write(model_json)\n",
    "# serialize weights to HDF5\n",
    "model_data_aug.save_weights(\"model.h5\")\n",
    "print(\"Saved model to disk\")"
   ]
  },
  {
   "cell_type": "code",
   "execution_count": null,
   "metadata": {},
   "outputs": [],
   "source": [
    "from keras.models import model_from_json\n",
    "# load json and create model\n",
    "json_file = open('model.json', 'r')\n",
    "loaded_model_json = json_file.read()\n",
    "json_file.close()\n",
    "loaded_model = model_from_json(loaded_model_json)\n",
    "# load weights into new model\n",
    "loaded_model.load_weights(\"model.h5\")\n",
    "print(\"Loaded model from disk\")\n",
    " \n",
    "# evaluate loaded model on test data\n",
    "loaded_model.compile(loss='binary_crossentropy', optimizer='adam', metrics=['accuracy'])\n",
    "score = loaded_model.evaluate(X_testrgb, y_test, verbose=1)\n",
    "print(\"%s: %.2f%%\" % (loaded_model.metrics_names[1], score[1]*100))\n"
   ]
  },
  {
   "cell_type": "code",
   "execution_count": 1,
   "metadata": {
    "ExecuteTime": {
     "end_time": "2020-12-07T08:30:26.856480Z",
     "start_time": "2020-12-07T08:30:13.160044Z"
    }
   },
   "outputs": [
    {
     "ename": "ModuleNotFoundError",
     "evalue": "No module named 'tensorflow_datasets'",
     "output_type": "error",
     "traceback": [
      "\u001b[0;31m---------------------------------------------------------------------------\u001b[0m",
      "\u001b[0;31mModuleNotFoundError\u001b[0m                       Traceback (most recent call last)",
      "\u001b[0;32m<ipython-input-1-96842d9e9fc5>\u001b[0m in \u001b[0;36m<module>\u001b[0;34m\u001b[0m\n\u001b[1;32m      4\u001b[0m \u001b[0;32mimport\u001b[0m \u001b[0mPIL\u001b[0m\u001b[0;34m.\u001b[0m\u001b[0mImage\u001b[0m\u001b[0;34m\u001b[0m\u001b[0;34m\u001b[0m\u001b[0m\n\u001b[1;32m      5\u001b[0m \u001b[0;32mimport\u001b[0m \u001b[0mtensorflow\u001b[0m \u001b[0;32mas\u001b[0m \u001b[0mtf\u001b[0m\u001b[0;34m\u001b[0m\u001b[0;34m\u001b[0m\u001b[0m\n\u001b[0;32m----> 6\u001b[0;31m \u001b[0;32mimport\u001b[0m \u001b[0mtensorflow_datasets\u001b[0m \u001b[0;32mas\u001b[0m \u001b[0mtfds\u001b[0m\u001b[0;34m\u001b[0m\u001b[0;34m\u001b[0m\u001b[0m\n\u001b[0m",
      "\u001b[0;31mModuleNotFoundError\u001b[0m: No module named 'tensorflow_datasets'"
     ]
    }
   ],
   "source": [
    "import numpy as np\n",
    "import os\n",
    "import PIL\n",
    "import PIL.Image\n",
    "import tensorflow as tf\n",
    "import tensorflow_datasets as tfds"
   ]
  },
  {
   "cell_type": "code",
   "execution_count": null,
   "metadata": {},
   "outputs": [],
   "source": []
  }
 ],
 "metadata": {
  "kernelspec": {
   "display_name": "Python 3",
   "language": "python",
   "name": "python3"
  },
  "language_info": {
   "codemirror_mode": {
    "name": "ipython",
    "version": 3
   },
   "file_extension": ".py",
   "mimetype": "text/x-python",
   "name": "python",
   "nbconvert_exporter": "python",
   "pygments_lexer": "ipython3",
   "version": "3.8.5"
  },
  "toc": {
   "base_numbering": 1,
   "nav_menu": {},
   "number_sections": true,
   "sideBar": true,
   "skip_h1_title": false,
   "title_cell": "Table of Contents",
   "title_sidebar": "Contents",
   "toc_cell": false,
   "toc_position": {},
   "toc_section_display": true,
   "toc_window_display": false
  },
  "varInspector": {
   "cols": {
    "lenName": 16,
    "lenType": 16,
    "lenVar": 40
   },
   "kernels_config": {
    "python": {
     "delete_cmd_postfix": "",
     "delete_cmd_prefix": "del ",
     "library": "var_list.py",
     "varRefreshCmd": "print(var_dic_list())"
    },
    "r": {
     "delete_cmd_postfix": ") ",
     "delete_cmd_prefix": "rm(",
     "library": "var_list.r",
     "varRefreshCmd": "cat(var_dic_list()) "
    }
   },
   "oldHeight": 396.391,
   "position": {
    "height": "40px",
    "left": "917.188px",
    "right": "20px",
    "top": "130px",
    "width": "482px"
   },
   "types_to_exclude": [
    "module",
    "function",
    "builtin_function_or_method",
    "instance",
    "_Feature"
   ],
   "varInspector_section_display": "none",
   "window_display": false
  }
 },
 "nbformat": 4,
 "nbformat_minor": 2
}
