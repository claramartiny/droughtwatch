{
 "cells": [
  {
   "cell_type": "markdown",
   "metadata": {},
   "source": [
    "This notebook assumes you have already followed the steps in `README.md`. If not, do that first!"
   ]
  },
  {
   "cell_type": "code",
   "execution_count": 1,
   "metadata": {
    "ExecuteTime": {
     "end_time": "2020-12-07T11:57:18.948036Z",
     "start_time": "2020-12-07T11:57:13.359651Z"
    }
   },
   "outputs": [],
   "source": [
    "import os\n",
    "import matplotlib.pyplot as plt\n",
    "import numpy as np\n",
    "import tensorflow.compat.v1 as tf\n",
    "import argparse\n",
    "import math\n",
    "import numpy as np\n",
    "import os"
   ]
  },
  {
   "cell_type": "code",
   "execution_count": 2,
   "metadata": {
    "ExecuteTime": {
     "end_time": "2020-12-07T11:57:19.011771Z",
     "start_time": "2020-12-07T11:57:18.996352Z"
    }
   },
   "outputs": [],
   "source": [
    "tf.enable_eager_execution()"
   ]
  },
  {
   "cell_type": "markdown",
   "metadata": {},
   "source": [
    "# Show example of images"
   ]
  },
  {
   "cell_type": "code",
   "execution_count": 84,
   "metadata": {
    "ExecuteTime": {
     "end_time": "2020-12-07T12:43:43.559985Z",
     "start_time": "2020-12-07T12:43:43.534154Z"
    }
   },
   "outputs": [],
   "source": [
    "dirlist = lambda di: [os.path.join(di, file) for file in os.listdir(di)]\n",
    "training_files = dirlist('../earthengine/testimages/')\n",
    "\n",
    "def parse_visual(data):\n",
    "    dataset = tf.data.TFRecordDataset(data)\n",
    "    # pattern for one part file\n",
    "    # dataset = tf.data.TFRecordDataset('part-r-00099')\n",
    "    iterator = dataset.make_one_shot_iterator()\n",
    "\n",
    "    features = {\n",
    "        'B2': tf.FixedLenSequenceFeature([65], tf.int64,allow_missing=True),\n",
    "        'B3': tf.FixedLenSequenceFeature([65], tf.int64,allow_missing=True),\n",
    "        'B4': tf.FixedLenSequenceFeature([65], tf.int64,allow_missing=True),\n",
    "        'B5': tf.FixedLenSequenceFeature([65], tf.int64,allow_missing=True)\n",
    "\n",
    "    }\n",
    "\n",
    "    parsed_examples = [tf.parse_single_example(data, features) for data in iterator]\n",
    "    return parsed_examples\n",
    "\n",
    "parsed_examples = parse_visual(training_files[0])"
   ]
  },
  {
   "cell_type": "code",
   "execution_count": 114,
   "metadata": {
    "ExecuteTime": {
     "end_time": "2020-12-07T13:48:04.912457Z",
     "start_time": "2020-12-07T13:48:04.906096Z"
    }
   },
   "outputs": [],
   "source": [
    "def get_img_from_example(parsed_example, intensify=True):\n",
    "    rgbArray = np.zeros((65,65,3), 'int64')\n",
    "    for i, band in enumerate(['B5', 'B3', 'B2']):\n",
    "        band_data = parsed_example[band].numpy()\n",
    "        if intensify:\n",
    "            band_data = band_data/np.max(band_data)*255\n",
    "        else:\n",
    "            band_data = band_data*255\n",
    "        rgbArray[..., i] = band_data\n",
    "    return rgbArray"
   ]
  },
  {
   "cell_type": "code",
   "execution_count": 116,
   "metadata": {
    "ExecuteTime": {
     "end_time": "2020-12-07T13:48:09.870971Z",
     "start_time": "2020-12-07T13:48:09.681388Z"
    },
    "scrolled": false
   },
   "outputs": [
    {
     "data": {
      "image/png": "[encoded data removed]",
      "text/plain": [
       "<Figure size 432x288 with 1 Axes>"
      ]
     },
     "metadata": {
      "needs_background": "light"
     },
     "output_type": "display_data"
    }
   ],
   "source": [
    "img= get_img_from_example(parsed_examples[0])\n",
    "plt.imshow(img);"
   ]
  },
  {
   "cell_type": "markdown",
   "metadata": {},
   "source": [
    "# TO DO: data augmentation"
   ]
  },
  {
   "cell_type": "code",
   "execution_count": null,
   "metadata": {},
   "outputs": [],
   "source": []
  }
 ],
 "metadata": {
  "kernelspec": {
   "display_name": "Python 3",
   "language": "python",
   "name": "python3"
  },
  "language_info": {
   "codemirror_mode": {
    "name": "ipython",
    "version": 3
   },
   "file_extension": ".py",
   "mimetype": "text/x-python",
   "name": "python",
   "nbconvert_exporter": "python",
   "pygments_lexer": "ipython3",
   "version": "3.8.5"
  },
  "toc": {
   "base_numbering": 1,
   "nav_menu": {},
   "number_sections": true,
   "sideBar": true,
   "skip_h1_title": false,
   "title_cell": "Table of Contents",
   "title_sidebar": "Contents",
   "toc_cell": false,
   "toc_position": {},
   "toc_section_display": true,
   "toc_window_display": false
  },
  "varInspector": {
   "cols": {
    "lenName": 16,
    "lenType": 16,
    "lenVar": 40
   },
   "kernels_config": {
    "python": {
     "delete_cmd_postfix": "",
     "delete_cmd_prefix": "del ",
     "library": "var_list.py",
     "varRefreshCmd": "print(var_dic_list())"
    },
    "r": {
     "delete_cmd_postfix": ") ",
     "delete_cmd_prefix": "rm(",
     "library": "var_list.r",
     "varRefreshCmd": "cat(var_dic_list()) "
    }
   },
   "oldHeight": 396.391,
   "position": {
    "height": "40px",
    "left": "917.188px",
    "right": "20px",
    "top": "130px",
    "width": "482px"
   },
   "types_to_exclude": [
    "module",
    "function",
    "builtin_function_or_method",
    "instance",
    "_Feature"
   ],
   "varInspector_section_display": "none",
   "window_display": false
  }
 },
 "nbformat": 4,
 "nbformat_minor": 2
}
